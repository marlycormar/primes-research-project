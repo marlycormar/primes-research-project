{
 "cells": [
  {
   "cell_type": "markdown",
   "metadata": {},
   "source": [
    "# Comparative Analysis of Machine Learning Models for Thyroid Cancer\n",
    "\n",
    "Recurrence Prediction\n",
    "\n",
    "Anay Aggarwal (MIT PRIMES)  \n",
    "Ekam Kaur (MIT PRIMES)  \n",
    "Susie Lu (MIT PRIMES)  \n",
    "June 20, 2024\n",
    "\n",
    "This study assesses the efficacy of machine learning algorithms—Artificial Neural Network, K-Nearest Neighbors, Support Vector Machine, Logistic Regression, Extreme Gradient Boosting, and Random Forest—in predicting recurrence in Differentiated Thyroid Cancer (DTC). Using a comprehensive dataset from the UCI Machine Learning Repository, we conduct a comparative analysis of these algorithms based on key performance metrics. Our investigation seeks to identify the best model for predicting DTC recurrence, aiming to advance personalized treatment strategies and improve clinical outcomes in thyroid cancer care."
   ],
   "id": "1f1431d0-ac74-4d38-a584-89b8dd99b28c"
  },
  {
   "cell_type": "raw",
   "metadata": {
    "raw_mimetype": "text/html"
   },
   "source": [
    "<!----------------------------------------------------------------------------->"
   ],
   "id": "f9deaf39-e54a-40af-a551-c3c5f213b17c"
  },
  {
   "cell_type": "raw",
   "metadata": {
    "raw_mimetype": "text/html"
   },
   "source": [
    "<!---------------------------- ## INTRODUCTION -------------------------------->"
   ],
   "id": "745f2069-aac0-4f6d-8569-e0350c03a472"
  },
  {
   "cell_type": "raw",
   "metadata": {
    "raw_mimetype": "text/html"
   },
   "source": [
    "<!----------------------------------------------------------------------------->"
   ],
   "id": "f8447331-541c-4b31-8efb-378ad35949cd"
  },
  {
   "cell_type": "markdown",
   "metadata": {},
   "source": [
    "# 1. Introduction\n",
    "\n",
    "Thyroid cancer is among the most prevalent endocrine malignancies worldwide, with differentiated thyroid cancer (DTC) representing the majority of cases \\[[1](#ref-pellegriti2013)\\]. The management and prognosis of thyroid cancer critically depend on the timely and accurate prediction of cancer recurrence. Traditional approaches, primarily based on clinical and pathological parameters, often lack the precision required for personalized treatment planning \\[[2](#ref-bhattacharya2023)\\]. With advancements in machine learning (ML) techniques, there’s a burgeoning interest in leveraging these analytical tools to enhance the predictive accuracy regarding cancer recurrence, thereby improving the efficacy of therapeutic interventions and follow-up strategies \\[[3](#ref-xi2022)\\].\n",
    "\n",
    "This paper explores the application of six distinct machine learning algorithms—Artificial Neural Network (ANN), Support Vector Machine (SVM), K-Nearest Neighbors (KNN), Logistic Regression (LR), and the ensemble learning methods – Random Forest (RF) and Extreme Gradient Boosting (XGBoost) — to predict cancer recurrence in patients with differentiated thyroid cancer. Utilizing the differentiated thyroid cancer recurrence dataset from the UCI Machine Learning Repository \\[[4](#ref-borzooei2023)\\], this study aims to compare the predictive performance of these algorithms in a clinical setting. The dataset comprises patient demographic information, clinical features, and pathological details, providing a solid foundation for predictive modeling.\n",
    "\n",
    "ANNs, celebrated for their capability to model complex nonlinear relationships through interconnected processing elements, offer powerful tools for medical prediction tasks \\[[5](#ref-abiodun2018)\\]. SVMs, recognized for their effectiveness in high-dimensional spaces and versatility in handling both linear and nonlinear data, present a robust methodology for classification challenges \\[[6](#ref-cervantes2020)\\]. KNN, a straightforward yet efficient algorithm based on feature space proximity, offers an intuitive approach to classification by leveraging the similarity between cases \\[[7](#ref-syriopoulos2022)\\]. LR, known for its simplicity and efficient training, offers a intuitive way for determining the decision boundary between linearly separable data points, and directly outputs the predicted probabilities for each class \\[[8](#ref-maalouf2011)\\]. RF, an ensemble learning method that uses bagging on classification trees, proves to be efficient and accurate in handling high-dimensional and non-linear data \\[[9](#ref-genuer2010)\\]. XGBoost, an ensemble learning method that uses boosting (meaning that the algorithm sequentially generates new trees based on previous training output), is very fast and robust for a variety of tasks \\[[10](#ref-anju2018)\\].\n",
    "\n",
    "By applying all six machine learning approaches to the differentiated thyroid cancer recurrence dataset, this study seeks to identify the most effective model for predicting cancer recurrence, thus contributing to the ongoing efforts to enhance patient outcomes in thyroid cancer management.\n",
    "\n",
    "Through a rigorous evaluation of model performance based on accuracy, precision, recall, and specificity, this paper aims to shed light on the strengths and limitations of each algorithm in the context of thyroid cancer recurrence prediction. Furthermore, the study discusses the implications of these findings for clinical practice, emphasizing the potential of machine learning to revolutionize cancer care by enabling more accurate and personalized risk assessments \\[[11](#ref-konstantina2015)\\]"
   ],
   "id": "7c221dd5-6d7a-4c33-9554-ad9adc9c5fec"
  },
  {
   "cell_type": "raw",
   "metadata": {
    "raw_mimetype": "text/html"
   },
   "source": [
    "<!----------------------------------------------------------------------------->"
   ],
   "id": "6d5ee961-e93b-4482-a5c9-2363c3f6d504"
  },
  {
   "cell_type": "raw",
   "metadata": {
    "raw_mimetype": "text/html"
   },
   "source": [
    "<!------------------------------ ## NOTATION ---------------------------------->"
   ],
   "id": "cca6bed9-d73d-4d4a-b26e-c90df58f87f0"
  },
  {
   "cell_type": "raw",
   "metadata": {
    "raw_mimetype": "text/html"
   },
   "source": [
    "<!----------------------------------------------------------------------------->"
   ],
   "id": "194c9a24-4335-4163-9124-6a88ca63aefa"
  },
  {
   "cell_type": "markdown",
   "metadata": {},
   "source": [
    "# 2. Notation\n",
    "\n",
    "Suppose we have a quantitative response $Y$ and $p$ different predictors $X_1, X_2, \\dots, X_p$. We assume that there is some relationship between $Y$ and $X = (X_1, X_2, \\dots, X_p)$, which can be written in the general form $$Y = f(X) + \\epsilon.$$ Here $f$ is some fixed but unknown function of $X_1, X_2, \\dots, X_p$ and $\\epsilon$ is a random error term, which is independent of $X$ and has mean zero. Our models will not be concerned with the form of $f$ but rather will try to formulate an estimate $\\hat{f}$ of $f$ that in turn produces an estimate $\\hat{Y}$ of $Y$. The formulation of interest becomes $$\\hat{Y} = \\hat{f}(X),$$ where $\\hat{f}$ is treated as a black box and the mean-zero error $\\epsilon$ is dropped.\n",
    "\n",
    "Suppose the outcome is the set with classes $1, 2, \\dots, n$. The Bayes Classifier assigns each observation to the most likely class, given its predictor values. In other words, we assign class $j \\in \\{1, 2, \\dots, n\\}$ to the test observation $x_0$ if $$Pr(Y = j | X = x_0) = \\max_{i} Pr(Y = i | X = x_0)$$\n",
    "\n",
    "The Bayes classifier produces the lowest possible test error rate called the Bayes error rate. In other words, the Bayes classifier minimizes the test error defined by $$\\frac{1}{2} \\sum_{i = 1}^{n} I(y_i \\neq \\hat{y}_i),$$\n",
    "\n",
    "where $I(y_i \\neq \\hat{y}_i)$ is an indicator variable that equals $1$ if $y_i \\neq \\hat{y}_i$ and zero if $y_i = \\hat{y}_i$ (i.e., the $i$th observation was classified correctly). The Bayes decision boundary is determined by those observations which conditional probability is exactly $0.5$."
   ],
   "id": "acf33334-cfc5-4460-bb48-170015130d5a"
  },
  {
   "cell_type": "raw",
   "metadata": {
    "raw_mimetype": "text/html"
   },
   "source": [
    "<!----------------------------------------------------------------------------->"
   ],
   "id": "bc8e83c1-ca1e-4539-a1cc-66e72a6d62a3"
  },
  {
   "cell_type": "raw",
   "metadata": {
    "raw_mimetype": "text/html"
   },
   "source": [
    "<!--------------------------- ## DATA & METHODS ------------------------------->"
   ],
   "id": "7318e320-caa9-43db-bf04-36a1636af232"
  },
  {
   "cell_type": "raw",
   "metadata": {
    "raw_mimetype": "text/html"
   },
   "source": [
    "<!----------------------------------------------------------------------------->"
   ],
   "id": "cae85b73-b3da-49f4-80c7-717bab76b0d1"
  },
  {
   "cell_type": "raw",
   "metadata": {
    "raw_mimetype": "text/html"
   },
   "source": [
    "<!-- EDA --->"
   ],
   "id": "4ef24bc4-d40e-4435-b232-7246009b5a4a"
  },
  {
   "cell_type": "markdown",
   "metadata": {},
   "source": [
    "# 3. Data Analysis\n",
    "\n",
    "Our study focuses on the “Differentiated Thyroid Cancer Recurrence” dataset \\[[4](#ref-borzooei2023)\\] hosted by the UCI Machine Learning Repository. The UCI Machine Learning Repository offers a wide array of datasets used for empirical analysis in machine learning and data mining \\[[12](#ref-ucidata)\\]. Established by the University of California, Irvine, this repository facilitates academic and educational pursuits by providing free access to datasets that cover various domains. As of March, 2024, it hosts and maintains over 600 datasets."
   ],
   "id": "64834f4a-32a7-4050-947e-42bcccf45f4b"
  },
  {
   "cell_type": "code",
   "execution_count": null,
   "metadata": {},
   "outputs": [
    {
     "output_type": "stream",
     "name": "stderr",
     "text": [
      "Rows: 383 Columns: 17\n",
      "── Column specification ────────────────────────────────────────────────────────\n",
      "Delimiter: \",\"\n",
      "chr (16): Gender, Smoking, Hx Smoking, Hx Radiothreapy, Thyroid Function, Ph...\n",
      "dbl  (1): Age\n",
      "\n",
      "ℹ Use `spec()` to retrieve the full column specification for this data.\n",
      "ℹ Specify the column types or set `show_col_types = FALSE` to quiet this message."
     ]
    }
   ],
   "source": [
    "raw_data <- readr::read_csv(here::here('data/raw-data.csv'))"
   ],
   "id": "a6fdaa26-c57e-4794-a680-a06b5e254f39"
  },
  {
   "cell_type": "markdown",
   "metadata": {},
   "source": [
    "The “Differentiated Thyroid Cancer Recurrence” dataset encompasses 383 samples or observations, and a range of 17 variables pertinent to thyroid cancer, including patient demographics, clinical features, and pathological details, all aimed at elucidating patterns associated with cancer recurrence.\n",
    "\n",
    "We will employ six distinct modeling methods to analyze our dataset: Artificial Neural Network (ANN), K-Nearest Neighbors (KNN), Support Vector Machine (SVM), Logistic Regression (LR), Random Forest (RF), and Extreme Gradient Boosting (XGBoost). Each of these methods brings unique strengths to the analysis, with ANN providing deep learning capabilities, KNN offering simplicity and ease of interpretation, SVM delivering powerful discriminative classification, LR providing an intuitive and easily trainable implementation, and the ensemble methods RF and XGBoost offering highly robust and accurate tree algorithms – thereby encompassing a comprehensive approach to predicting cancer recurrence in the studied dataset.\n",
    "\n",
    "To prepare our data for modeling, we fix a typographical error, remove duplicate observations, and transform categorical variables into factors."
   ],
   "id": "5db280d8-0e8f-4c0d-98cf-900dc8258ec8"
  },
  {
   "cell_type": "code",
   "execution_count": null,
   "metadata": {},
   "outputs": [
    {
     "output_type": "stream",
     "name": "stderr",
     "text": [
      "Rows: 383 Columns: 17\n",
      "── Column specification ────────────────────────────────────────────────────────\n",
      "Delimiter: \",\"\n",
      "chr (16): Gender, Smoking, Hx Smoking, Hx Radiothreapy, Thyroid Function, Ph...\n",
      "dbl  (1): Age\n",
      "\n",
      "ℹ Use `spec()` to retrieve the full column specification for this data.\n",
      "ℹ Specify the column types or set `show_col_types = FALSE` to quiet this message."
     ]
    }
   ],
   "source": [
    "#' Load raw data.\n",
    "cleaned_data <- \n",
    "  readr::read_csv(here::here('data/raw-data.csv')) |>\n",
    "  dplyr::distinct() |>\n",
    "  dplyr::rename(`Hx Radiotherapy` = 'Hx Radiothreapy') |>\n",
    "  dplyr::mutate(Gender = ifelse(Gender == 'F', 'Female', 'Male')) |>\n",
    "  dplyr::mutate(\n",
    "    Gender = factor(Gender, levels = c('Female', 'Male')),\n",
    "    Smoking = factor(Smoking, levels = c('Yes', 'No')),\n",
    "    `Hx Smoking` = factor(`Hx Smoking`, levels = c('Yes', 'No')),\n",
    "    `Hx Radiotherapy` = factor(`Hx Radiotherapy`, levels = c('Yes', 'No')),\n",
    "    `Thyroid Function` = factor(\n",
    "      `Thyroid Function`,\n",
    "      levels = c('Euthyroid', 'Clinical Hyperthyroidism',\n",
    "                 'Subclinical Hyperthyroidism', 'Clinical Hypothyroidism',\n",
    "                 'Subclinical Hypothyroidism')),\n",
    "    `Physical Examination` = factor(`Physical Examination`,\n",
    "                                    levels = c('Normal', 'Diffuse goiter', \n",
    "                                               'Single nodular goiter-right',\n",
    "                                               'Single nodular goiter-left', \n",
    "                                               'Multinodular goiter')),\n",
    "    Adenopathy = factor(Adenopathy,\n",
    "                        levels = c('No', 'Right', 'Left', 'Bilateral', \n",
    "                                   'Posterior', 'Extensive')),\n",
    "    Pathology = factor(\n",
    "      Pathology,\n",
    "      levels = c('Papillary', 'Micropapillary', 'Follicular',\n",
    "                 'Hurthel cell')),\n",
    "    Focality = factor(Focality, levels = c('Uni-Focal', 'Multi-Focal')),\n",
    "    `T` = factor(`T`, levels = c('T1a', 'T1b', 'T2', 'T3a', 'T3b', 'T4a',\n",
    "                                 'T4b')),\n",
    "    N = factor(N, levels = c('N0', 'N1b', 'N1a')),\n",
    "    M = factor(M, levels = c('M0', 'M1')),\n",
    "    Stage = factor(Stage, levels = c('I', 'II', 'III', 'IVA', 'IVB')),\n",
    "    Response = factor(\n",
    "      Response,\n",
    "      levels = c('Excellent', 'Biochemical Incomplete',\n",
    "                 'Structural Incomplete', 'Indeterminate')),\n",
    "    Risk = factor(Risk, levels = c('Low', 'Intermediate', 'High')),\n",
    "    Recurred = factor(Recurred, levels = c('Yes', 'No'))\n",
    "  )"
   ],
   "id": "029470c4-7532-44ce-a495-628272b62ef0"
  },
  {
   "cell_type": "code",
   "execution_count": null,
   "metadata": {},
   "outputs": [],
   "source": [
    "# Save cleaned data.\n",
    "readr::write_csv(x = cleaned_data, file = here::here('data', 'cleaned-data.csv'))"
   ],
   "id": "9321353a-8b45-4741-940c-0adb5323c07b"
  },
  {
   "cell_type": "code",
   "execution_count": null,
   "metadata": {},
   "outputs": [],
   "source": [
    "# Total observations.\n",
    "total_obs <- nrow(cleaned_data)\n",
    "\n",
    "# Number of males/females & gender percentages.\n",
    "fem_no <- sum(cleaned_data$Gender == 'Female')\n",
    "males_no <- sum(cleaned_data$Gender == 'Male')\n",
    "fem_perc <- round(fem_no/total_obs*100, 1)\n",
    "males_perc <- round(males_no/total_obs*100, 1)\n",
    "\n",
    "# Gender by recurrence.\n",
    "fem_rec_yes <- sum(cleaned_data$Gender == 'Female' & cleaned_data$Recurred == 'Yes')\n",
    "fem_rec_no <- sum(cleaned_data$Gender == 'Female' & cleaned_data$Recurred == 'No')\n",
    "male_rec_yes <- sum(cleaned_data$Gender == 'Male' & cleaned_data$Recurred == 'Yes')\n",
    "male_rec_no <- sum(cleaned_data$Gender == 'Male' & cleaned_data$Recurred == 'No')\n",
    "fem_rec_yes_perc <- round(fem_rec_yes/fem_no*100, 1)\n",
    "fem_rec_no_perc <- round(fem_rec_no/fem_no*100, 1)\n",
    "male_rec_yes_perc <- round(male_rec_yes/males_no*100, 1)\n",
    "male_rec_no_perc <- round(male_rec_no/males_no*100, 1)"
   ],
   "id": "1d3f194e-ede7-4ce8-9ca0-844e0b8c64ec"
  },
  {
   "cell_type": "markdown",
   "metadata": {},
   "source": [
    "After removing duplicates, our data has 364 observations. Out of the 17 variables, 16 will be used as features, leaving `Recurred` as the target variable to be predicted. Among the patients, there is a significant disparity between males and females: 293(80.5%) are females and 71(19.5%) are males. Males are about evenly distributed in terms of cancer recurrence with 59.2% total recurred cases. On the other hand, females are not evenly distributed in terms of cancer recurrence with 22.5% total recurred cases (see <a href=\"#fig-gender-dist-html\" class=\"quarto-xref\">Figure 1</a> )."
   ],
   "id": "a8ba126c-6c77-4235-8010-9194a833c68c"
  },
  {
   "cell_type": "code",
   "execution_count": null,
   "metadata": {},
   "outputs": [],
   "source": [
    "# Note: this plot will only show for PDF versions of the paper.\n",
    "knitr::include_graphics(here::here('images/gender_dist_plot.png'))"
   ],
   "id": "cell-fig-gender-dist-pdf"
  },
  {
   "cell_type": "code",
   "execution_count": null,
   "metadata": {},
   "outputs": [
    {
     "output_type": "stream",
     "name": "stderr",
     "text": [
      "Warning in RColorBrewer::brewer.pal(N, \"Set2\"): minimal value for n is 3, returning requested palette with 3 different levels\n",
      "Warning in RColorBrewer::brewer.pal(N, \"Set2\"): minimal value for n is 3, returning requested palette with 3 different levels"
     ]
    },
    {
     "output_type": "stream",
     "name": "stderr",
     "text": [
      "Warning in RColorBrewer::brewer.pal(N, \"Set2\"): minimal value for n is 3, returning requested palette with 3 different levels\n",
      "Warning in RColorBrewer::brewer.pal(N, \"Set2\"): minimal value for n is 3, returning requested palette with 3 different levels"
     ]
    }
   ],
   "source": [
    "# Note: this plot will only show for HTML versions of the paper.\n",
    "\n",
    "# Gender distribution grouped by cancer recurrence.\n",
    "gender_dist_plot <- cleaned_data |>\n",
    "  dplyr::mutate(fem_total = sum(Gender == 'Female'),\n",
    "                male_total= sum(Gender == 'Male')) |>\n",
    "  dplyr::group_by(Gender, Recurred) |>\n",
    "  dplyr::reframe(count = dplyr::n(), fem_total, male_total) |>\n",
    "  dplyr::mutate(\n",
    "    count = ifelse(Gender == 'Female',\n",
    "                   round(count/fem_total*100, 1),\n",
    "                   round(count/male_total*100, 1))) |>\n",
    "  dplyr::distinct() |>\n",
    "  plotly::plot_ly(\n",
    "    x = ~Gender,\n",
    "    y = ~count,\n",
    "    color = ~Recurred,\n",
    "    text = ~Recurred,\n",
    "    opacity = 0.7,\n",
    "    type = 'bar',\n",
    "    hovertemplate = '<b>Gender</b>: %{x} <br><b>Recurred</b>: %{text} <br><b>Percentage</b>: %{y} <extra></extra>'\n",
    "    ) |>\n",
    "  plotly::config(displayModeBar = FALSE) |>\n",
    "  plotly::layout(bargap = 0.5, barmode = 'stack',\n",
    "                 yaxis = list(title = '', ticksuffix = '%'),\n",
    "                 legend = list(title = list(text = '<b>Recurred</b>'))\n",
    "  )\n",
    "\n",
    "plotly::save_image(gender_dist_plot, here::here('images/gender_dist_plot.png'),\n",
    "                   width = 500, scale = 4)"
   ],
   "id": "cell-fig-gender-dist-html"
  },
  {
   "cell_type": "markdown",
   "metadata": {},
   "source": [
    "The distribution of `Age` by cancer recurrence is shown in <a href=\"#fig-age-dist-html\" class=\"quarto-xref\">Figure 2</a>. Note that, in general, older patients are more likely to recur."
   ],
   "id": "969ec65a-4f8f-4648-95cd-6f3b9c23bfd5"
  },
  {
   "cell_type": "code",
   "execution_count": null,
   "metadata": {},
   "outputs": [],
   "source": [
    "# Note: this plot will only show for PDF versions of the paper.\n",
    "knitr::include_graphics(here::here('images/age_dist_plot.png'))"
   ],
   "id": "cell-fig-age-dist-pdf"
  },
  {
   "cell_type": "code",
   "execution_count": null,
   "metadata": {},
   "outputs": [
    {
     "output_type": "stream",
     "name": "stderr",
     "text": [
      "Warning in RColorBrewer::brewer.pal(N, \"Set2\"): minimal value for n is 3, returning requested palette with 3 different levels\n",
      "Warning in RColorBrewer::brewer.pal(N, \"Set2\"): minimal value for n is 3, returning requested palette with 3 different levels"
     ]
    },
    {
     "output_type": "stream",
     "name": "stderr",
     "text": [
      "Warning in RColorBrewer::brewer.pal(N, \"Set2\"): minimal value for n is 3, returning requested palette with 3 different levels\n",
      "Warning in RColorBrewer::brewer.pal(N, \"Set2\"): minimal value for n is 3, returning requested palette with 3 different levels"
     ]
    }
   ],
   "source": [
    "# Note: this plot will only show for HTML versions of the paper.\n",
    "\n",
    "#' Age Distribution grouped by cancer recurrence.\n",
    "age_dist_plot <- cleaned_data |>\n",
    "  plotly::plot_ly() |>\n",
    "  plotly::add_trace(\n",
    "    x = ~Age,\n",
    "    color = ~Recurred,\n",
    "    text = ~Recurred,\n",
    "    opacity = 0.7, #marker = list(color = '02d46a'),\n",
    "    type = 'histogram',\n",
    "    histnorm = 'percent',\n",
    "    hovertemplate = '<b>Age Range</b>: %{x} years <br><b>Percentage</b>: %{y:.1f}%<br><b>Recurred</b>: %{text}<extra></extra>'\n",
    "    ) |>\n",
    "  plotly::config(displayModeBar = FALSE) |>\n",
    "  plotly::layout(bargap = 0.1, barmode = 'stack',\n",
    "                 yaxis = list(ticksuffix = '%'),\n",
    "                 legend = list(title = list(text = '<b>Recurred</b>'))\n",
    "  )\n",
    "\n",
    "plotly::save_image(age_dist_plot, here::here('images/age_dist_plot.png'), scale = 4)"
   ],
   "id": "cell-fig-age-dist-html"
  },
  {
   "cell_type": "code",
   "execution_count": null,
   "metadata": {},
   "outputs": [],
   "source": [
    "# Create a summary of the data features to be shown in a table.\n",
    "dt_summary <- purrr::map(\n",
    "  colnames(cleaned_data |> dplyr::select(-Age, -Recurred)),\n",
    "  \\(x) paste0(unique(sort(cleaned_data[[x]])), collapse = ', ')\n",
    ")\n",
    "names(dt_summary) <- colnames(cleaned_data |> dplyr::select(-Age, -Recurred))\n",
    "dt_summary <- tibble::as_tibble(dt_summary) |>\n",
    "  tidyr::pivot_longer(\n",
    "    cols = dplyr::everything(),\n",
    "    names_to = 'Feature',\n",
    "    values_to = 'Values'\n",
    "  )"
   ],
   "id": "f48babfd-38cb-4052-816a-8d343a15285d"
  },
  {
   "cell_type": "markdown",
   "metadata": {},
   "source": [
    "Besides `Age`, the rest of the features are categorical. One interesting categorical feature is `Adenopathy`. It represents the presence of swollen lymph nodes during physical examination. The different adenopathy types observed are no adenopathy, anterior right, anterior left, bilateral (i.e., both sides of the body), posterior, and extensive (i.e., involves all the locations). Note the high correlation between swollen lymph nodes and DTC recurrence rate (see <a href=\"#fig-aden-dist-html\" class=\"quarto-xref\">Figure 3</a>)."
   ],
   "id": "2c571038-509e-49f1-8db2-8f6a59147608"
  },
  {
   "cell_type": "code",
   "execution_count": null,
   "metadata": {},
   "outputs": [],
   "source": [
    "# Note: this plot will only show for PDF versions of the paper.\n",
    "knitr::include_graphics(here::here('images/aden_dist_plot.png'))"
   ],
   "id": "cell-fig-aden-dist-pdf"
  },
  {
   "cell_type": "code",
   "execution_count": null,
   "metadata": {},
   "outputs": [
    {
     "output_type": "stream",
     "name": "stderr",
     "text": [
      "Warning in RColorBrewer::brewer.pal(N, \"Set2\"): minimal value for n is 3, returning requested palette with 3 different levels\n",
      "Warning in RColorBrewer::brewer.pal(N, \"Set2\"): minimal value for n is 3, returning requested palette with 3 different levels"
     ]
    },
    {
     "output_type": "stream",
     "name": "stderr",
     "text": [
      "Warning in RColorBrewer::brewer.pal(N, \"Set2\"): minimal value for n is 3, returning requested palette with 3 different levels\n",
      "Warning in RColorBrewer::brewer.pal(N, \"Set2\"): minimal value for n is 3, returning requested palette with 3 different levels"
     ]
    }
   ],
   "source": [
    "# Note: this plot will only show for HTML versions of the paper.\n",
    "\n",
    "# Adenopathy distribution by cancer recurrence.\n",
    "aden_dist_plot <- cleaned_data |>\n",
    "  #' Find first the total number of patients by Adenopathy.\n",
    "  #' This will be used to find the percentage of repeating cases next.\n",
    "  dplyr::reframe(\n",
    "    total_aden = dplyr::n(),\n",
    "    .by = Adenopathy,\n",
    "    Recurred # Keep this column.\n",
    "  ) |>\n",
    "  # Calculate the number of cancer recurrences per adepathy. Calculate %.\n",
    "  dplyr::reframe(\n",
    "    total_rec = round(dplyr::n()/total_aden*100, 1),\n",
    "    .by = c(Adenopathy, Recurred),\n",
    "    total_aden = total_aden\n",
    "  ) |>\n",
    "  dplyr::distinct() |>\n",
    "  plotly::plot_ly(\n",
    "    x = ~Adenopathy,\n",
    "    y = ~total_rec,\n",
    "    color = ~Recurred,\n",
    "    text = ~Recurred,\n",
    "    opacity = 0.7,\n",
    "    type = 'bar',\n",
    "    hovertext = ~total_aden,\n",
    "    hovertemplate = '<b>Adenopathy</b>: %{x} <br><b>Recurred</b>: %{text} <br><b>Percentage</b>: %{y} of %{hovertext} patients <extra></extra>'\n",
    "    ) |>\n",
    "  plotly::config(displayModeBar = FALSE) |>\n",
    "  plotly::layout(bargap = 0.1, barmode = 'stack',\n",
    "                 yaxis = list(title = '', ticksuffix = '%'),\n",
    "                 legend = list(title = list(text = '<b>Recurred</b>'))\n",
    "  )\n",
    "\n",
    "plotly::save_image(aden_dist_plot, here::here('images/aden_dist_plot.png'), scale = 4)"
   ],
   "id": "cell-fig-aden-dist-html"
  },
  {
   "cell_type": "markdown",
   "metadata": {},
   "source": [
    "A summary of all the features and their categories are shown in **?@tbl-summary-html**."
   ],
   "id": "b6403def-f568-4426-b7f6-b487537d8dca"
  },
  {
   "cell_type": "raw",
   "metadata": {
    "raw_mimetype": "text/html"
   },
   "source": [
    "<!----------------------------------------------------------------------------->"
   ],
   "id": "55a3d3eb-2a26-4152-a45e-f40e8cae03d7"
  },
  {
   "cell_type": "raw",
   "metadata": {
    "raw_mimetype": "text/html"
   },
   "source": [
    "<!--------------------------------- ## MODELS --------------------------------->"
   ],
   "id": "1d178b11-5b22-4557-aafd-fe8426f90cea"
  },
  {
   "cell_type": "raw",
   "metadata": {
    "raw_mimetype": "text/html"
   },
   "source": [
    "<!----------------------------------------------------------------------------->"
   ],
   "id": "45864cdb-63ab-4fd5-a327-79ca85c1ecda"
  },
  {
   "cell_type": "markdown",
   "metadata": {},
   "source": [
    "# 4. Model Training\n",
    "\n",
    "Let us split the cleaned data set into a training ($75\\%$) set and a test ($25\\%$) set using a random generator. The training data will be further separated into 10 folds for cross-validation."
   ],
   "id": "ffea3b96-5aa9-42e7-8164-513aac9db7f9"
  },
  {
   "cell_type": "code",
   "execution_count": null,
   "metadata": {},
   "outputs": [],
   "source": [
    "# Split data into training and test sets.\n",
    "set.seed(314)\n",
    "data_split <- rsample::initial_split(cleaned_data)\n",
    "train_data <- rsample::training(data_split)\n",
    "test_data <- rsample::testing(data_split)\n",
    "\n",
    "# Split the training data into 10-folds for cross-validation.\n",
    "set.seed(3145)\n",
    "data_cross_val <- rsample::vfold_cv(train_data)\n",
    "\n",
    "# Set aside the outcome column of the sample test data.\n",
    "test_outcome <- factor(test_data$Recurred)"
   ],
   "id": "8594f606-a1b9-40c7-b8c4-0f52a3e88d53"
  },
  {
   "cell_type": "markdown",
   "metadata": {},
   "source": [
    "The `recipes` package is useful to create a blueprint of the pre-processing steps that will be applied to our data during model training. We use this package to specify that\n",
    "\n",
    "-   the minimum number of features with absolute correlations less that $0.6$ should be removed,\n",
    "-   the numeric features should be normalized, and\n",
    "-   the categorical variables should be transformed into numerical variables."
   ],
   "id": "aa1e83d4-009d-48f3-b68e-8d62d1d5a031"
  },
  {
   "cell_type": "code",
   "execution_count": null,
   "metadata": {},
   "outputs": [],
   "source": [
    "# Create recipe for the data prep.\n",
    "data_rec <- recipes::recipe(Recurred ~ ., data = train_data) |>\n",
    "  recipes::step_corr(threshold = 0.6) |>\n",
    "  recipes::step_normalize(recipes::all_numeric()) |>\n",
    "  recipes::step_dummy(recipes::all_nominal_predictors())"
   ],
   "id": "7894d49e-736f-402c-bf17-2444b002ef9c"
  },
  {
   "cell_type": "code",
   "execution_count": null,
   "metadata": {},
   "outputs": [],
   "source": [
    "#' Save split data and the recipes to be used by the notebooks scripts.\n",
    "#' This is important to avoid differences in the scripts and remove duplicate\n",
    "#' computations.\n",
    "#' Note that this is not shown in the paper.\n",
    "saveRDS(data_split, 'data/data_split.rds')\n",
    "saveRDS(data_cross_val, 'data/data_cross_val.rds')\n",
    "saveRDS(test_outcome, 'data/test_outcome.rds')\n",
    "saveRDS(data_rec, 'data/data_rec.rds')"
   ],
   "id": "ccdd7909-94f6-4817-ac4f-57c53630cd6d"
  },
  {
   "cell_type": "markdown",
   "metadata": {},
   "source": [
    "## 4.1 K-Nearest Neighbors\n",
    "\n",
    "### 4.1.1 Model Description\n",
    "\n",
    "The K-Nearest Neighbors (KNN) algorithm is a nonparametric method used for classification. It classifies a given sample based on the proximity to the training data. The algorithm determines the class of a point $X$ by identifying the most common class label among its $k$ nearest neighbors, where $k$ is a predetermined hyperparameter. Unlike other algorithms, the KNN classifier does not involve training a model; instead, it memorizes the training data, making it a “lazy” algorithm.\n",
    "\n",
    "The primary hyperparameters of the KNN algorithm are $k$, the distance measure, and the weight function. Common distance measures include Euclidean distance, Manhattan distance, and Minkowski distance.\n",
    "\n",
    "Choosing the optimal value for $k$ is crucial and involves balancing the bias-variance tradeoff. A small $k$ results in low bias and high variance. Low bias means the model captures the complexity of the training data very well, but high variance means the model is highly sensitive to the specifics of the training data, often leading to overfitting and higher test errors. As $k$ increases, the model averages over more neighbors, which smooths out the predictions and reduces the model’s sensitivity to individual data points, thus reducing variance. Therefore, a large $k$ results in high bias and low variance. The model may become too simplistic, leading to higher bias, but it becomes less sensitive to the training data, making it more robust to noise and better at generalizing to new data.\n",
    "\n",
    "To avoid classification ties, it is advisable to select $k$ appropriately. For binary classification, this typically means choosing an odd $k$. Additionally, to enhance model flexibility, a weighted version of KNN can be employed, where the influence of each of the $k$ nearest neighbors is weighted inversely by their distance to the test point. We will tune these three parameters below.\n",
    "\n",
    "### 4.1.2 Model Workflow"
   ],
   "id": "843c1098-14e5-4bb9-900f-3144f67a7e91"
  },
  {
   "cell_type": "code",
   "execution_count": null,
   "metadata": {},
   "outputs": [],
   "source": [
    "# Load the data already computed in the index.qmd file.\n",
    "data_split <- readRDS(here::here('data/data_split.rds'))\n",
    "data_cross_val <- readRDS(here::here('data/data_cross_val.rds'))\n",
    "test_outcome <- readRDS(here::here('data/test_outcome.rds'))\n",
    "data_rec <- readRDS(here::here('data/data_rec.rds'))\n",
    "\n",
    "# Set random seed.\n",
    "set.seed(3145)"
   ],
   "id": "e351d4be-d505-4188-aa2b-cdac4bb07dcf"
  },
  {
   "cell_type": "markdown",
   "metadata": {},
   "source": [
    "Below we create a KNN model specification and workflow indicating the model hyperparameters: a number of neighbors (i.e., $k$), a weight function, and a distance function. To optimize our model, we will use the `tune::tune()` function to find optimal values of these parameters based on model accuracy."
   ],
   "id": "2fa9bf69-d783-458a-bf9a-d34ca48fa253"
  },
  {
   "cell_type": "code",
   "execution_count": null,
   "metadata": {},
   "outputs": [],
   "source": [
    "# Create model specification.\n",
    "knn_model_spec <-\n",
    "  parsnip::nearest_neighbor(\n",
    "    neighbors = tune::tune(),\n",
    "    dist_power = tune::tune(),\n",
    "    weight_func = tune::tune()\n",
    "  ) |>\n",
    "  parsnip::set_mode('classification') |>\n",
    "  parsnip::set_engine('kknn')\n",
    "\n",
    "# Create model workflow.\n",
    "knn_workflow <- workflows::workflow() |>\n",
    "  workflows::add_model(knn_model_spec) |>\n",
    "  workflows::add_recipe(data_rec)"
   ],
   "id": "dccdf588-dcf2-4bbb-acb5-95b38cca758b"
  },
  {
   "cell_type": "markdown",
   "metadata": {},
   "source": [
    "### 4.1.3 Model Tuning and Fitting\n",
    "\n",
    "Next, we run our prepared workflow. To speed up the computation, we utilize parallel computing, distributing the tasks across multiple cores.\n",
    "\n",
    "We fine-tune the model hyperparameters (namely $k$, the distance function, and the weight function) using the $10$-fold cross-validation setup. We then select the best model based on accuracy."
   ],
   "id": "195cfe22-b949-4846-9af8-eda8841415f9"
  },
  {
   "cell_type": "code",
   "execution_count": null,
   "metadata": {},
   "outputs": [
    {
     "output_type": "stream",
     "name": "stdout",
     "text": [
      "12.884 sec elapsed"
     ]
    }
   ],
   "source": [
    "#' Check number of available cores.\n",
    "cores_no <- parallel::detectCores() - 1\n",
    "\n",
    "#' Start timer.\n",
    "tictoc::tic()\n",
    "\n",
    "# Create and register clusters.\n",
    "clusters <- parallel::makeCluster(cores_no)\n",
    "doParallel::registerDoParallel(clusters)\n",
    "\n",
    "# Fine-tune the model params.\n",
    "knn_res <- tune::tune_grid(\n",
    "  object = knn_workflow,\n",
    "  resamples = data_cross_val,\n",
    "  control = tune::control_resamples(save_pred = TRUE)\n",
    ")\n",
    "\n",
    "# Select the best fit based on accuracy.\n",
    "knn_best_fit <- \n",
    "  knn_res |> \n",
    "  tune::select_best(metric = 'accuracy')\n",
    "\n",
    "# Finalize the workflow with the best parameters.\n",
    "knn_final_workflow <- \n",
    "  knn_workflow |>\n",
    "  tune::finalize_workflow(knn_best_fit)\n",
    "\n",
    "# Fit the final model using the best parameters.\n",
    "knn_final_fit <- \n",
    "  knn_final_workflow |> \n",
    "  tune::last_fit(data_split)\n",
    "\n",
    "# Stop clusters.\n",
    "parallel::stopCluster(clusters)\n",
    "\n",
    "# Stop timer.\n",
    "tictoc::toc()"
   ],
   "id": "ed42050b-5b82-4e89-9531-6a71a8a7c89b"
  },
  {
   "cell_type": "markdown",
   "metadata": {},
   "source": [
    "### 4.1.4 Model Performance\n",
    "\n",
    "We then apply our selected model to the test set. The final metrics are given in **?@tbl-knn-performance-html**."
   ],
   "id": "4c35d742-aa7b-4bd3-b5dc-1121e2b2e8a5"
  },
  {
   "cell_type": "code",
   "execution_count": null,
   "metadata": {},
   "outputs": [],
   "source": [
    "# Use the best fit to make predictions on the test data.\n",
    "knn_pred <- \n",
    "  knn_final_fit |> \n",
    "  tune::collect_predictions() |>\n",
    "  dplyr::mutate(truth = factor(.pred_class))"
   ],
   "id": "a02936c6-e7b8-4519-8f92-c9e02666e836"
  },
  {
   "cell_type": "code",
   "execution_count": null,
   "metadata": {},
   "outputs": [],
   "source": [
    "# Create metrics table.\n",
    "knn_metrics_table <- list(\n",
    "  'Accuracy' = yardstick::accuracy_vec(truth = knn_pred[['.pred_class']],\n",
    "                                       estimate = test_outcome),\n",
    "  'Precision' = yardstick::precision_vec(truth = knn_pred[['.pred_class']],\n",
    "                                         estimate = test_outcome),\n",
    "  'Recall' = yardstick::recall_vec(truth = knn_pred[['.pred_class']],\n",
    "                                   estimate = test_outcome),\n",
    "  'Specificity' = yardstick::specificity_vec(truth = knn_pred[['.pred_class']],\n",
    "                                            estimate = test_outcome)\n",
    ") |>\n",
    "  dplyr::bind_cols() |>\n",
    "  tidyr::pivot_longer(cols = dplyr::everything(), names_to = 'Metric', values_to = 'Value') |>\n",
    "  dplyr::mutate(Value = round(Value*100, 1))\n",
    "\n",
    "readr::write_csv(x = knn_metrics_table, file = here::here('data', 'knn-metrics.csv'))"
   ],
   "id": "8ae711c4-e3ac-4e41-ac6a-2fe93a1847e9"
  },
  {
   "cell_type": "markdown",
   "metadata": {},
   "source": [
    "## 4.2 Support Vector Machine\n",
    "\n",
    "### 4.2.1 Model Description\n",
    "\n",
    "Support Vector Machines (SVM) are powerful supervised learning algorithms used for both classification and regression tasks. For classification, SVM works by finding the hyperplane that best separates data points of different classes in a high-dimensional space. The optimal hyperplane is determined by maximizing the margin between the closest points of the classes, known as support vectors.\n",
    "\n",
    "SVM is particularly effective in high-dimensional spaces and is useful when the number of dimensions exceeds the number of samples. It can employ various kernel functions—such as linear, polynomial, and radial basis function (RBF)—to handle non-linear classification by mapping input features into higher-dimensional spaces.\n",
    "\n",
    "The most commonly used kernel in SVM is the Radial Basis Function (RBF) kernel, also known as the Gaussian kernel. The RBF kernel maps input features into an infinite-dimensional space, allowing SVM to create complex decision boundaries. The RBF kernel function is defined as:\n",
    "\n",
    "$$K(X_i, X_j) = e^{- \\frac{|| X_i - X_j ||^2}{2 \\sigma^2}}$$ where $X_i$ and $X_j$ are the input feature vectors, and $\\sigma$ is a parameter that determines the spread of the kernel and controls the influence of individual training samples.\n",
    "\n",
    "### 4.2.2 Model Workflow"
   ],
   "id": "2a9a5430-95dc-48af-bd94-c9b4e75a55fb"
  },
  {
   "cell_type": "code",
   "execution_count": null,
   "metadata": {},
   "outputs": [],
   "source": [
    "# Load the data already computed in the index.qmd file.\n",
    "data_split <- readRDS(here::here('data/data_split.rds'))\n",
    "data_cross_val <- readRDS(here::here('data/data_cross_val.rds'))\n",
    "test_outcome <- readRDS(here::here('data/test_outcome.rds'))\n",
    "data_rec <- readRDS(here::here('data/data_rec.rds'))\n",
    "\n",
    "# Set random seed.\n",
    "set.seed(3145)"
   ],
   "id": "11334e65-1117-4883-96d0-5cc02ceaf57b"
  },
  {
   "cell_type": "markdown",
   "metadata": {},
   "source": [
    "We will create an SVM model specification and workflow, indicating the model hyperparameters $\\sigma$ (or `rbf_sigma`) and `cost`. The `rbf_sigma` parameter controls the influence of individual training examples, while the `cost` parameter controls the trade-off between achieving a low training error and a low testing error, which affects the model’s ability to generalize. To optimize our model, we will use the `tune::tune()` function to find the optimal values of these parameters in terms of model accuracy."
   ],
   "id": "b6adf662-0703-4737-890b-b044a8da8ca5"
  },
  {
   "cell_type": "code",
   "execution_count": null,
   "metadata": {},
   "outputs": [],
   "source": [
    "# Create model specification.\n",
    "svm_model_spec <-\n",
    "  parsnip::svm_rbf(\n",
    "    cost = tune::tune(),\n",
    "    rbf_sigma = tune::tune()\n",
    "  ) |>\n",
    "  parsnip::set_engine('kernlab') |>\n",
    "  parsnip::set_mode('classification')\n",
    "\n",
    "# Create model workflow.\n",
    "svm_workflow <- workflows::workflow() |>\n",
    "  workflows::add_model(svm_model_spec) |>\n",
    "  workflows::add_recipe(data_rec)"
   ],
   "id": "586338e2-f093-4eac-9a0d-565fe89923b9"
  },
  {
   "cell_type": "markdown",
   "metadata": {},
   "source": [
    "### 4.2.3 Model Tuning and Fitting\n",
    "\n",
    "As we did for KNN, we use parallel computing to fine-tuning our model using the $10$-fold cross-validation we set up earlier. We end this section by selecting the best model based on accuracy."
   ],
   "id": "62f6a81f-7189-42ef-a008-d004b27c6b8e"
  },
  {
   "cell_type": "code",
   "execution_count": null,
   "metadata": {},
   "outputs": [
    {
     "output_type": "stream",
     "name": "stdout",
     "text": [
      "14.622 sec elapsed"
     ]
    }
   ],
   "source": [
    "#' Check number of available cores.\n",
    "cores_no <- parallel::detectCores() - 1\n",
    "\n",
    "#' Start timer.\n",
    "tictoc::tic()\n",
    "\n",
    "# Create and register clusters.\n",
    "clusters <- parallel::makeCluster(cores_no)\n",
    "doParallel::registerDoParallel(clusters)\n",
    "\n",
    "# Fine-tune the model params.\n",
    "svm_res <- tune::tune_grid(\n",
    "  object = svm_workflow,\n",
    "  resamples = data_cross_val,\n",
    "  control = tune::control_resamples(save_pred = TRUE)\n",
    ")\n",
    "\n",
    "# Select the best fit based on accuracy.\n",
    "svm_best_fit <- \n",
    "  svm_res |> \n",
    "  tune::select_best(metric = 'accuracy')\n",
    "\n",
    "# Finalize the workflow with the best parameters.\n",
    "svm_final_workflow <- \n",
    "  svm_workflow |>\n",
    "  tune::finalize_workflow(svm_best_fit)\n",
    "\n",
    "# Fit the final model using the best parameters.\n",
    "svm_final_fit <- \n",
    "  svm_final_workflow |> \n",
    "  tune::last_fit(data_split)\n",
    "\n",
    "# Stop clusters.\n",
    "parallel::stopCluster(clusters)\n",
    "\n",
    "# Stop timer.\n",
    "tictoc::toc()"
   ],
   "id": "f5652f62-e543-4575-af46-916f92c4d30d"
  },
  {
   "cell_type": "markdown",
   "metadata": {},
   "source": [
    "### 4.2.4 Model Performance\n",
    "\n",
    "We then apply our selected model to the test set. The final metrics are given in **?@tbl-svm-performance-html**."
   ],
   "id": "fdf01c09-7b6a-4e4e-b501-7be01a899a76"
  },
  {
   "cell_type": "code",
   "execution_count": null,
   "metadata": {},
   "outputs": [],
   "source": [
    "# Use the best fit to make predictions on the test data.\n",
    "svm_pred <- \n",
    "  svm_final_fit |> \n",
    "  tune::collect_predictions() |>\n",
    "  dplyr::mutate(truth = factor(.pred_class))"
   ],
   "id": "315c7488-81e2-4eaa-9e49-cad6b0aecbe0"
  },
  {
   "cell_type": "code",
   "execution_count": null,
   "metadata": {},
   "outputs": [],
   "source": [
    "# Create metrics table.\n",
    "svm_metrics_table <- list(\n",
    "  'Accuracy' = yardstick::accuracy_vec(truth = svm_pred[['.pred_class']],\n",
    "                                       estimate = test_outcome),\n",
    "  'Precision' = yardstick::precision_vec(truth = svm_pred[['.pred_class']],\n",
    "                                         estimate = test_outcome),\n",
    "  'Recall' = yardstick::recall_vec(truth = svm_pred[['.pred_class']],\n",
    "                                   estimate = test_outcome),\n",
    "  'Specificity' = yardstick::specificity_vec(truth = svm_pred[['.pred_class']],\n",
    "                                            estimate = test_outcome)\n",
    ") |>\n",
    "  dplyr::bind_cols() |>\n",
    "  tidyr::pivot_longer(cols = dplyr::everything(), names_to = 'Metric', values_to = 'Value') |>\n",
    "  dplyr::mutate(Value = round(Value*100, 1))\n",
    "\n",
    "readr::write_csv(x = svm_metrics_table, file = here::here('data', 'svm-metrics.csv'))"
   ],
   "id": "794a61c8-3e97-4482-bf97-dfb1089e57ec"
  },
  {
   "cell_type": "markdown",
   "metadata": {},
   "source": [
    "## 4.3 Artificial Neural Network\n",
    "\n",
    "### 4.3.1 Model Description\n",
    "\n",
    "Artificial Neural Networks (ANNs) are a class of machine learning algorithms inspired by the structure and function of the human brain. They consist of interconnected layers of nodes, or neurons, which process input data to perform tasks such as classification, regression, and pattern recognition. ANNs are particularly effective for complex tasks like image and speech recognition, natural language processing, financial forecasting, and medical diagnosis.\n",
    "\n",
    "An ANN is composed of multiple layers, including an input layer, one or more hidden layers, and an output layer. The input layer receives the raw data, the hidden layers process the data through various transformations, and the output layer produces the final prediction or classification. Each connection between neurons has an associated weight, and each neuron has a bias term. These parameters are adjusted during the training process to minimize the error in predictions.\n",
    "\n",
    "The training process of an ANN involves forward propagation, where input data is passed through the network layer by layer. Each neuron applies an activation function to compute its output, introducing non-linearity to help the network learn complex patterns. The loss, or error, between the network’s output and the true target values is calculated using a loss function. Through backpropagation, the loss is propagated backward through the network, and the weights and biases are adjusted using an optimization algorithm like gradient descent.\n",
    "\n",
    "ANNs offer significant advantages, including flexibility in modeling complex relationships and the ability to scale for large datasets and intricate tasks. Their ability to learn and generalize from data makes them powerful tools in various applications, driving advancements in fields ranging from technology and finance to healthcare and beyond.\n",
    "\n",
    "### 4.3.2 Model Workflow"
   ],
   "id": "1fe09437-2bc2-432d-970c-0a955122e23f"
  },
  {
   "cell_type": "code",
   "execution_count": null,
   "metadata": {},
   "outputs": [
    {
     "output_type": "stream",
     "name": "stderr",
     "text": [
      "── Attaching packages ────────────────────────────────────── tidymodels 1.2.0 ──"
     ]
    },
    {
     "output_type": "stream",
     "name": "stderr",
     "text": [
      "✔ broom        1.0.6     ✔ tibble       3.2.1\n",
      "✔ dials        1.2.1     ✔ tidyr        1.3.1\n",
      "✔ ggplot2      3.5.1     ✔ tune         1.2.1\n",
      "✔ infer        1.0.7     ✔ workflows    1.1.4\n",
      "✔ modeldata    1.3.0     ✔ workflowsets 1.1.0\n",
      "✔ purrr        1.0.2     ✔ yardstick    1.3.1\n",
      "✔ rsample      1.2.1     "
     ]
    },
    {
     "output_type": "stream",
     "name": "stderr",
     "text": [
      "── Conflicts ───────────────────────────────────────── tidymodels_conflicts() ──\n",
      "✖ ggplot2::alpha() masks scales::alpha(), kernlab::alpha()\n",
      "✖ purrr::cross()   masks kernlab::cross()\n",
      "✖ purrr::discard() masks scales::discard()\n",
      "✖ dplyr::filter()  masks stats::filter()\n",
      "✖ dplyr::lag()     masks stats::lag()\n",
      "✖ recipes::step()  masks stats::step()\n",
      "• Use tidymodels_prefer() to resolve common conflicts."
     ]
    }
   ],
   "source": [
    "library(tidymodels)"
   ],
   "id": "c5081c39-ecda-48d6-a354-27ae7d01f231"
  },
  {
   "cell_type": "markdown",
   "metadata": {},
   "source": [
    "Let us start by specifying the ANN model and creating the model workflow. Specifically, we will define a multilayer perceptron model (i.e., a single-layer, feed-forward neural network). The key parameters we will set include the number of epochs (or training iterations), the number of hidden units, the penalty (or weight decay), and the learning rate."
   ],
   "id": "4f2ca00c-e23d-494c-a060-18cddbb55adb"
  },
  {
   "cell_type": "code",
   "execution_count": null,
   "metadata": {},
   "outputs": [],
   "source": [
    "# Create model specification.\n",
    "ann_model_spec <-\n",
    "  parsnip::mlp(\n",
    "    epochs = tune::tune(),\n",
    "    hidden_units = tune::tune(),\n",
    "    penalty = tune::tune(),\n",
    "    learn_rate = 0.1\n",
    "  ) |>\n",
    "  parsnip::set_engine('nnet') |>\n",
    "  parsnip::set_mode('classification')\n",
    "\n",
    "# Create model workflow.\n",
    "ann_workflow <- workflows::workflow() |>\n",
    "  workflows::add_model(ann_model_spec) |>\n",
    "  workflows::add_recipe(data_rec)"
   ],
   "id": "c1973b71-9238-49bd-8f3a-114d3cdd9529"
  },
  {
   "cell_type": "markdown",
   "metadata": {},
   "source": [
    "### 4.3.3 Model Tuning and Fitting\n",
    "\n",
    "We will proceed to tune all the parameters except for the learning rate. This is because the `nnet` package does not support tuning the learning rate."
   ],
   "id": "4ef7b789-2167-4dd6-af39-784fb555d128"
  },
  {
   "cell_type": "code",
   "execution_count": null,
   "metadata": {},
   "outputs": [
    {
     "output_type": "stream",
     "name": "stdout",
     "text": [
      "13.784 sec elapsed"
     ]
    }
   ],
   "source": [
    "#' Check number of available cores.\n",
    "cores_no <- parallel::detectCores() - 1\n",
    "\n",
    "#' Start timer.\n",
    "tictoc::tic()\n",
    "\n",
    "# Create and register clusters.\n",
    "clusters <- parallel::makeCluster(cores_no)\n",
    "doParallel::registerDoParallel(clusters)\n",
    "\n",
    "# Fine-tune the model params.\n",
    "ann_res <- tune::tune_grid(\n",
    "  object = ann_workflow,\n",
    "  resamples = data_cross_val,\n",
    "  control = tune::control_resamples(save_pred = TRUE)\n",
    ")\n",
    "\n",
    "# Select the best fit based on accuracy.\n",
    "ann_best_fit <- \n",
    "  ann_res |> \n",
    "  tune::select_best(metric = 'accuracy')\n",
    "\n",
    "# Finalize the workflow with the best parameters.\n",
    "ann_final_workflow <- \n",
    "  ann_workflow |>\n",
    "  tune::finalize_workflow(ann_best_fit)\n",
    "\n",
    "# Fit the final model using the best parameters.\n",
    "ann_final_fit <- \n",
    "  ann_final_workflow |> \n",
    "  tune::last_fit(data_split)\n",
    "\n",
    "# Stop clusters.\n",
    "parallel::stopCluster(clusters)\n",
    "\n",
    "# Stop timer.\n",
    "tictoc::toc()"
   ],
   "id": "fca3c2f4-e806-4e60-8cda-e7e7cc7873d2"
  },
  {
   "cell_type": "markdown",
   "metadata": {},
   "source": [
    "### 4.3.4 Model Performance\n",
    "\n",
    "We then apply our selected model to the test set. The final metrics are given in **?@tbl-ann-performance-html**."
   ],
   "id": "263b84ef-e663-49d9-889e-d0b85b796af2"
  },
  {
   "cell_type": "code",
   "execution_count": null,
   "metadata": {},
   "outputs": [],
   "source": [
    "# Use the best fit to make predictions on the test data.\n",
    "ann_pred <- \n",
    "  ann_final_fit |> \n",
    "  tune::collect_predictions() |>\n",
    "  dplyr::mutate(truth = factor(.pred_class))"
   ],
   "id": "1dd1c02e-ca43-4998-8309-ebaa0e48af76"
  },
  {
   "cell_type": "code",
   "execution_count": null,
   "metadata": {},
   "outputs": [],
   "source": [
    "# Create metrics table.\n",
    "ann_metrics_table <- list(\n",
    "  'Accuracy' = yardstick::accuracy_vec(truth = ann_pred[['.pred_class']],\n",
    "                                       estimate = test_outcome),\n",
    "  'Precision' = yardstick::precision_vec(truth = ann_pred[['.pred_class']],\n",
    "                                         estimate = test_outcome),\n",
    "  'Recall' = yardstick::recall_vec(truth = ann_pred[['.pred_class']],\n",
    "                                   estimate = test_outcome),\n",
    "  'Specificity' = yardstick::specificity_vec(truth = ann_pred[['.pred_class']],\n",
    "                                            estimate = test_outcome)\n",
    ") |>\n",
    "  dplyr::bind_cols() |>\n",
    "  tidyr::pivot_longer(cols = dplyr::everything(), names_to = 'Metric', values_to = 'Value') |>\n",
    "  dplyr::mutate(Value = round(Value*100, 1))\n",
    "\n",
    "readr::write_csv(x = ann_metrics_table, file = here::here('data', 'ann-metrics.csv'))"
   ],
   "id": "aed26537-f5bc-4dd3-9325-19d88cac953b"
  },
  {
   "cell_type": "markdown",
   "metadata": {},
   "source": [
    "## 4.4 Logistic Regression\n",
    "\n",
    "### 4.4.1 Model Description\n",
    "\n",
    "Logistic Regression (LR) is a supervised learning algorithm widely used for classification problems. It is particularly effective for binary classification tasks, where the outcome variable can take one of two possible values. The model predicts the probability that a given input belongs to a specific class by applying the logistic (sigmoid) function, which transforms a linear combination of input features into a probability value between $0$ and $1$.\n",
    "\n",
    "For binary classification, the logistic function is defined as $\\sigma(\\hat{Y}_i) = 1/(1 + e^{-\\hat{Y}_i})$ where $\\hat{Y}$ is a linear combination of the input features. The probability of the outcome $i$ being the positive class (represented as 1) is given by:\n",
    "\n",
    "$$\\sigma(\\hat{Y}_i) = \\sigma(\\beta_0 + \\beta_1 X_{1, i} + \\beta_2 X_{2, i} + \\ldots + \\beta_p X_{p, i}),$$\n",
    "\n",
    "where $\\beta_0$ is the intercept, and $\\beta_1, \\beta_2, \\ldots, \\beta_p$ are the coefficients corresponding to the input features $X_1, X_2, \\ldots, X_p$. These coefficients are estimated using the method of maximum likelihood estimation (MLE), which maximizes the likelihood of the observed data.\n",
    "\n",
    "LR can also be extended to handle multi-class classification problems through multinomial logistic regression. In this case, the model uses the softmax function to generalize to multiple classes. The softmax function is an extension of the logistic function for multiple classes and is defined as,\n",
    "\n",
    "$$Pr(Y = j | X = x_0) = \\frac{e^{\\mathbf{\\beta}_j x_0}}{\\sum_{i=1}^{n} e^{\\mathbf{\\beta}_i \\cdot x_0}}$$\n",
    "\n",
    "where $x_0$ is an observation, $n$ is the number of classes, and $\\mathbf{\\beta}_j$ is the coefficient vector for class $j$.\n",
    "\n",
    "The primary advantage of LR is its interpretability. Each coefficient indicates the change in the log-odds of the outcome for a one-unit change in the corresponding predictor variable. This provides clear insights into the influence of each predictor on the probability of the outcome. Despite its simplicity, LR is a powerful tool for both binary and multi-class classification, making it suitable for a wide range of applications where the relationship between the predictors and the log-odds is approximately linear.\n",
    "\n",
    "### 4.4.2 Model Workflow"
   ],
   "id": "fcb3368b-c6b8-4789-b43c-25555d3c276e"
  },
  {
   "cell_type": "code",
   "execution_count": null,
   "metadata": {},
   "outputs": [],
   "source": [
    "# Load the data already computed in the index.qmd file.\n",
    "data_split <- readRDS(here::here('data/data_split.rds'))\n",
    "data_cross_val <- readRDS(here::here('data/data_cross_val.rds'))\n",
    "test_outcome <- readRDS(here::here('data/test_outcome.rds'))\n",
    "data_rec <- readRDS(here::here('data/data_rec.rds'))\n",
    "\n",
    "# Set random seed.\n",
    "set.seed(3145)"
   ],
   "id": "dec59a3e-a633-492e-876b-11c162a7b18a"
  },
  {
   "cell_type": "markdown",
   "metadata": {},
   "source": [
    "In this section, we will train our LR model and find the optimal values for the model parameters. The key parameter we will optimize is the penalty parameter, which refers to the regularization term added to the loss function to prevent overfitting. We will find the optimal penalty value to improve model performance. Additionally, we will set mixture = 1 to apply Lasso regularization, which helps in potentially removing irrelevant predictors and choosing a simpler model."
   ],
   "id": "17bfd70e-0a0b-4d22-b618-0239c157a715"
  },
  {
   "cell_type": "code",
   "execution_count": null,
   "metadata": {},
   "outputs": [],
   "source": [
    "# Create model specification.\n",
    "lr_model_spec <-\n",
    "  parsnip::logistic_reg(\n",
    "    penalty = tune(),\n",
    "    mixture = 1) |>\n",
    "  parsnip::set_mode('classification') |>\n",
    "  parsnip::set_engine('glmnet')\n",
    "\n",
    "# Create model workflow.\n",
    "lr_workflow <- workflows::workflow() |>\n",
    "  workflows::add_model(lr_model_spec) |>\n",
    "  workflows::add_recipe(data_rec)"
   ],
   "id": "9780c590-2e5e-42b0-822b-2f563b882b1b"
  },
  {
   "cell_type": "markdown",
   "metadata": {},
   "source": [
    "### 4.4.3 Model Tuning and Fitting"
   ],
   "id": "c84490ee-b4f0-4339-a7e6-4997d33fcaaf"
  },
  {
   "cell_type": "code",
   "execution_count": null,
   "metadata": {},
   "outputs": [
    {
     "output_type": "stream",
     "name": "stdout",
     "text": [
      "10.011 sec elapsed"
     ]
    }
   ],
   "source": [
    "#' Check number of available cores.\n",
    "cores_no <- parallel::detectCores() - 1\n",
    "\n",
    "#' Start timer.\n",
    "tictoc::tic()\n",
    "\n",
    "# Create and register clusters.\n",
    "clusters <- parallel::makeCluster(cores_no)\n",
    "doParallel::registerDoParallel(clusters)\n",
    "\n",
    "# Fine-tune the model params.\n",
    "lr_res <- tune::tune_grid(\n",
    "  object = lr_workflow,\n",
    "  resamples = data_cross_val,\n",
    "  control = tune::control_resamples(save_pred = TRUE)\n",
    ")\n",
    "\n",
    "# Select the best fit based on accuracy.\n",
    "lr_best_fit <- \n",
    "  lr_res |> \n",
    "  tune::select_best(metric = 'accuracy')\n",
    "\n",
    "# Finalize the workflow with the best parameters.\n",
    "lr_final_workflow <- \n",
    "  lr_workflow |>\n",
    "  tune::finalize_workflow(lr_best_fit)\n",
    "\n",
    "# Fit the final model using the best parameters.\n",
    "lr_final_fit <- \n",
    "  lr_final_workflow |> \n",
    "  tune::last_fit(data_split)\n",
    "\n",
    "# Stop clusters.\n",
    "parallel::stopCluster(clusters)\n",
    "\n",
    "# Stop timer.\n",
    "tictoc::toc()"
   ],
   "id": "63a40a16-a749-4d33-b291-71c0103caa84"
  },
  {
   "cell_type": "markdown",
   "metadata": {},
   "source": [
    "### 4.4.4 Model Performance\n",
    "\n",
    "We then apply our selected model to the test set. The final metrics are given in **?@tbl-lr-performance-html**."
   ],
   "id": "fcfedd0e-0bf1-4c44-a6b2-d5accd7e7a3f"
  },
  {
   "cell_type": "code",
   "execution_count": null,
   "metadata": {},
   "outputs": [],
   "source": [
    "# Use the best fit to make predictions on the test data.\n",
    "lr_pred <- \n",
    "  lr_final_fit |> \n",
    "  tune::collect_predictions() |>\n",
    "  dplyr::mutate(truth = factor(.pred_class))"
   ],
   "id": "44fddb7a-5125-4650-81b5-4dbedf370130"
  },
  {
   "cell_type": "code",
   "execution_count": null,
   "metadata": {},
   "outputs": [],
   "source": [
    "# Create metrics table.\n",
    "lr_metrics_table <- list(\n",
    "  'Accuracy' = yardstick::accuracy_vec(truth = lr_pred[['.pred_class']],\n",
    "                                       estimate = test_outcome),\n",
    "  'Precision' = yardstick::precision_vec(truth = lr_pred[['.pred_class']],\n",
    "                                         estimate = test_outcome),\n",
    "  'Recall' = yardstick::recall_vec(truth = lr_pred[['.pred_class']],\n",
    "                                   estimate = test_outcome),\n",
    "  'Specificity' = yardstick::specificity_vec(truth = lr_pred[['.pred_class']],\n",
    "                                            estimate = test_outcome)\n",
    ") |>\n",
    "  dplyr::bind_cols() |>\n",
    "  tidyr::pivot_longer(cols = dplyr::everything(), names_to = 'Metric', values_to = 'Value') |>\n",
    "  dplyr::mutate(Value = round(Value*100, 1))\n",
    "\n",
    "readr::write_csv(x = lr_metrics_table, file = here::here('data', 'lr-metrics.csv'))"
   ],
   "id": "5cc0d2d3-bcf3-406e-9daa-b3f8825f43fc"
  },
  {
   "cell_type": "markdown",
   "metadata": {},
   "source": [
    "## 4.5 Extreme Gradient Boosting\n",
    "\n",
    "### 4.5.1 Model Description\n",
    "\n",
    "Extreme Gradient Boosting (XGBoost) is an advanced implementation of gradient boosting designed to enhance performance and speed. It builds upon the principles of gradient boosting to provide a highly efficient, flexible, and portable library that supports both regression and classification tasks. XGBoost has become one of the most popular machine learning algorithms due to its high performance and scalability.\n",
    "\n",
    "XGBoost operates by sequentially adding decision trees to an ensemble. Each tree is built to correct the errors of the previous trees in the ensemble. The process begins with an initial model, typically a simple model such as the mean of the target variable. At each subsequent step, a new decision tree is added to the model to predict the residuals (errors) of the previous trees. Each tree is built by optimizing an objective function that combines a loss function and a regularization term. The regularization term helps prevent overfitting by penalizing the complexity of the model. After each tree is added, the residuals are updated. The new tree aims to minimize these residuals, improving the overall model’s performance.\n",
    "\n",
    "The node splitting in each tree is guided by an objective function, which typically involves minimizing a loss function (such as mean squared error for regression or log loss for classification) while including a regularization term. The final prediction is the sum of the predictions from all the trees in the ensemble, effectively reducing variance. This process is depicted in the attached flowchart, showing how each tree contributes to the final model.\n",
    "\n",
    "XGBoost has several key advantages. It incorporates both L1 (Lasso) and L2 (Ridge) regularization to prevent overfitting and manage model complexity. The algorithm supports parallel processing, significantly speeding up the training process. XGBoost can handle missing values internally, making it robust to incomplete datasets. Additionally, users can define custom objective functions and evaluation metrics, allowing for flexibility in optimization.\n",
    "\n",
    "### 4.5.2 Model Workflow"
   ],
   "id": "7dc1eb80-500d-44a5-95ce-709993bc3f6d"
  },
  {
   "cell_type": "code",
   "execution_count": null,
   "metadata": {},
   "outputs": [],
   "source": [
    "library(tidymodels)\n",
    "\n",
    "# Load the data already computed in the index.qmd file.\n",
    "data_split <- readRDS(here::here('data/data_split.rds'))\n",
    "data_cross_val <- readRDS(here::here('data/data_cross_val.rds'))\n",
    "test_outcome <- readRDS(here::here('data/test_outcome.rds'))\n",
    "data_rec <- readRDS(here::here('data/data_rec.rds'))\n",
    "\n",
    "# Set random seed.\n",
    "set.seed(3145)"
   ],
   "id": "99571154-941d-4562-b685-26fadfa67f67"
  },
  {
   "cell_type": "markdown",
   "metadata": {},
   "source": [
    "To effectively train our XGBoost model and find the optimal hyperparameters, we will set up a workflow that includes model specification and data preprocessing. The hyperparameters to be tuned include:\n",
    "\n",
    "-   `tree_depth`: Controls the maximum depth of each tree, impacting the model’s complexity.\n",
    "-   `min_n`: Specifies the minimum number of observations that must exist in a node for a split to be attempted, preventing overly specific branches and encouraging generalization.\n",
    "-   `loss_reduction`: Sets the minimum reduction in the loss function required to make a further partition on a leaf node, helping to control overfitting by making the algorithm more conservative.\n",
    "-   `sample_size`: Determines the fraction of the training data used for fitting each individual tree, introducing randomness and preventing overfitting.\n",
    "-   `mtry`: Sets the number of features considered when looking for the best split, adding variability to enhance generalization.\n",
    "-   `learn_rate`: Also known as the shrinkage parameter, controls the rate at which the model learns. Smaller learning rates can lead to better performance by allowing the model to learn more slowly and avoid overfitting."
   ],
   "id": "37342394-c277-4ac6-99f9-45a6891def04"
  },
  {
   "cell_type": "code",
   "execution_count": null,
   "metadata": {},
   "outputs": [],
   "source": [
    "# Create model specification.\n",
    "xgboost_model_spec <- \n",
    "  boost_tree(\n",
    "    trees = 1000,\n",
    "    tree_depth = tune(), \n",
    "    min_n = tune(),\n",
    "    loss_reduction = tune(),\n",
    "    sample_size = tune(), \n",
    "    mtry = tune(),\n",
    "    learn_rate = tune()\n",
    "  ) |>\n",
    "  set_engine('xgboost') |>\n",
    "  set_mode('classification')\n",
    "\n",
    "# Create model workflow.\n",
    "xgboost_workflow <- workflows::workflow() |>\n",
    "  workflows::add_model(xgboost_model_spec) |>\n",
    "  workflows::add_recipe(data_rec)"
   ],
   "id": "e47cf6b4-3798-431a-bec8-b5b00a0134f5"
  },
  {
   "cell_type": "markdown",
   "metadata": {},
   "source": [
    "### 4.5.3 Model Tuning and Fitting"
   ],
   "id": "a14c7dd6-1988-49db-92ff-f95e5c696266"
  },
  {
   "cell_type": "code",
   "execution_count": null,
   "metadata": {},
   "outputs": [
    {
     "output_type": "stream",
     "name": "stderr",
     "text": [
      "i Creating pre-processing data to finalize unknown parameter: mtry"
     ]
    },
    {
     "output_type": "stream",
     "name": "stdout",
     "text": [
      "17.401 sec elapsed"
     ]
    }
   ],
   "source": [
    "#' Check number of available cores.\n",
    "cores_no <- parallel::detectCores() - 1\n",
    "\n",
    "#' Start timer.\n",
    "tictoc::tic()\n",
    "\n",
    "# Create and register clusters.\n",
    "clusters <- parallel::makeCluster(cores_no)\n",
    "doParallel::registerDoParallel(clusters)\n",
    "\n",
    "# Fine-tune the model params.\n",
    "xgboost_res <- tune::tune_grid(\n",
    "  object = xgboost_workflow,\n",
    "  resamples = data_cross_val,\n",
    "  control = tune::control_resamples(save_pred = TRUE)\n",
    ")"
   ],
   "id": "cbccb6c4-2124-4628-af20-009c3babfdfa"
  },
  {
   "cell_type": "markdown",
   "metadata": {},
   "source": [
    "### 4.5.4 Model Performance\n",
    "\n",
    "We then apply our selected model to the test set. The final metrics are given in **?@tbl-xgboost-performance-html**."
   ],
   "id": "d9da71b2-b323-48c5-98b3-f755b3740ef3"
  },
  {
   "cell_type": "code",
   "execution_count": null,
   "metadata": {},
   "outputs": [],
   "source": [
    "# Use the best fit to make predictions on the test data.\n",
    "xgboost_pred <- \n",
    "  xgboost_final_fit |> \n",
    "  tune::collect_predictions() |>\n",
    "  dplyr::mutate(truth = factor(.pred_class))"
   ],
   "id": "a3f0d3a8-141b-492b-addc-93b5bf2c7ee7"
  },
  {
   "cell_type": "code",
   "execution_count": null,
   "metadata": {},
   "outputs": [],
   "source": [
    "# Create metrics table.\n",
    "xgboost_metrics_table <- list(\n",
    "  'Accuracy' = yardstick::accuracy_vec(truth = xgboost_pred[['.pred_class']],\n",
    "                                       estimate = test_outcome),\n",
    "  'Precision' = yardstick::precision_vec(truth = xgboost_pred[['.pred_class']],\n",
    "                                         estimate = test_outcome),\n",
    "  'Recall' = yardstick::recall_vec(truth = xgboost_pred[['.pred_class']],\n",
    "                                   estimate = test_outcome),\n",
    "  'Specificity' = yardstick::specificity_vec(truth = xgboost_pred[['.pred_class']],\n",
    "                                            estimate = test_outcome)\n",
    ") |>\n",
    "  dplyr::bind_cols() |>\n",
    "  tidyr::pivot_longer(cols = dplyr::everything(), names_to = 'Metric', values_to = 'Value') |>\n",
    "  dplyr::mutate(Value = round(Value*100, 1))\n",
    "\n",
    "readr::write_csv(x = xgboost_metrics_table, file = here::here('data', 'xgboost-metrics.csv'))"
   ],
   "id": "ff1a62fa-e6d6-4ca6-aa22-9255922ddd5e"
  },
  {
   "cell_type": "markdown",
   "metadata": {},
   "source": [
    "## 4.6 Random Forest\n",
    "\n",
    "### 4.6.1 Model Description\n",
    "\n",
    "Random forest is an ensemble learning method that constructs multiple decision trees during training and outputs the mode of the classes (classification) or mean prediction (regression) of the individual trees. This method is particularly effective for classification problems, such as the one we are dealing with in the Thyroid dataset where the target variable is categorical. Each decision tree in a random forest splits the predictor space into distinct regions using recursive binary splits. For instance, a tree might first split based on whether $\\text{Age}<35$ and then further split based on whether $\\text{Gender}=\\text{Female}$ to predict cancer recurrence. These splits are chosen to minimize a specific error criterion, such as the Gini index or entropy \\[[13](#ref-james2021)\\].\n",
    "\n",
    "A significant limitation of individual decision trees is their high variance; small changes in the training data can lead to very different tree structures. Random forest addresses this by using bagging, where multiple trees are trained on different bootstrap samples of the data. The final prediction is made by aggregating the predictions of all the trees, typically through majority voting in classification problems. This process reduces variance because the average of many uncorrelated trees’ predictions is less variable than the prediction of a single tree.\n",
    "\n",
    "Random forest further reduces correlation between trees by selecting a random subset of predictors to consider for each split, rather than considering all predictors. Typically, for classification problems, this subset size is approximately $\\sqrt{p}$, where $p$ is the total number of predictors. This random selection of features ensures that the trees are less similar to each other, which reduces the correlation between their predictions and leads to a greater reduction in variance. By combining bagging with feature randomness, random forests create robust models that are less prone to overfitting and provide better generalization to new data.\n",
    "\n",
    "### 4.6.2 Model Workflow"
   ],
   "id": "b8dfc5bd-9793-4c69-943d-e024074681c1"
  },
  {
   "cell_type": "code",
   "execution_count": null,
   "metadata": {},
   "outputs": [],
   "source": [
    "library(tidymodels)\n",
    "\n",
    "# Load the data already computed in the index.qmd file.\n",
    "data_split <- readRDS(here::here('data/data_split.rds'))\n",
    "data_cross_val <- readRDS(here::here('data/data_cross_val.rds'))\n",
    "test_outcome <- readRDS(here::here('data/test_outcome.rds'))\n",
    "data_rec <- readRDS(here::here('data/data_rec.rds'))\n",
    "\n",
    "# Set random seed.\n",
    "set.seed(3145)"
   ],
   "id": "c8582e48-8036-4088-a633-baa71a38a53c"
  },
  {
   "cell_type": "markdown",
   "metadata": {},
   "source": [
    "In this section, we will set up a workflow to train our Random Forest model. The goal is to optimize the following hyperparameters to achieve the best performance on our classification task:\n",
    "\n",
    "-   `trees`: This parameter specifies the total number of trees to be grown in the forest. Tuning the number of trees can help ensure that the model is robust and neither overfitting nor underfitting the data.\n",
    "-   `min_n`: This parameter sets the minimum number of observations required in a terminal node. Tuning `min_n` helps control the size of the trees, affecting the model’s ability to generalize to new data."
   ],
   "id": "2cbffb48-9e9f-4e8c-a4e7-15745ffa0b0d"
  },
  {
   "cell_type": "code",
   "execution_count": null,
   "metadata": {},
   "outputs": [],
   "source": [
    "# Create model specification.\n",
    "rf_model_spec <- \n",
    "  parsnip::rand_forest(\n",
    "    trees = 500,\n",
    "    min_n = tune::tune()\n",
    "  ) |>\n",
    "  parsnip::set_engine('ranger') |>\n",
    "  parsnip::set_mode('classification')\n",
    "\n",
    "# Create model workflow.\n",
    "rf_workflow <- workflows::workflow() |>\n",
    "  workflows::add_model(rf_model_spec) |>\n",
    "  workflows::add_recipe(data_rec)"
   ],
   "id": "1edd0672-a631-410c-a13f-3beae49aad06"
  },
  {
   "cell_type": "markdown",
   "metadata": {},
   "source": [
    "### 4.6.3 Model Tuning and Fitting"
   ],
   "id": "53e6f121-e933-482c-a3bf-9baba88aefb6"
  },
  {
   "cell_type": "code",
   "execution_count": null,
   "metadata": {},
   "outputs": [
    {
     "output_type": "stream",
     "name": "stdout",
     "text": [
      "12.388 sec elapsed"
     ]
    }
   ],
   "source": [
    "#' Check number of available cores.\n",
    "cores_no <- parallel::detectCores() - 1\n",
    "\n",
    "#' Start timer.\n",
    "tictoc::tic()\n",
    "\n",
    "# Create and register clusters.\n",
    "clusters <- parallel::makeCluster(cores_no)\n",
    "doParallel::registerDoParallel(clusters)\n",
    "\n",
    "# Fine-tune the model params.\n",
    "rf_res <- tune::tune_grid(\n",
    "  object = rf_workflow,\n",
    "  resamples = data_cross_val,\n",
    "  control = tune::control_resamples(save_pred = TRUE)\n",
    ")\n",
    "\n",
    "# Select the best fit based on accuracy.\n",
    "rf_best_fit <- \n",
    "  rf_res |> \n",
    "  tune::select_best(metric = 'accuracy')\n",
    "\n",
    "# Finalize the workflow with the best parameters.\n",
    "rf_final_workflow <- \n",
    "  rf_workflow |>\n",
    "  tune::finalize_workflow(rf_best_fit)\n",
    "\n",
    "# Fit the final model using the best parameters.\n",
    "rf_final_fit <- \n",
    "  rf_final_workflow |> \n",
    "  tune::last_fit(data_split)\n",
    "\n",
    "# Stop clusters.\n",
    "parallel::stopCluster(clusters)\n",
    "\n",
    "# Stop timer.\n",
    "tictoc::toc()"
   ],
   "id": "ce3141a1-b37d-4fcc-8312-e1eee3431d34"
  },
  {
   "cell_type": "markdown",
   "metadata": {},
   "source": [
    "### 4.6.4 Model Performance\n",
    "\n",
    "We then apply our selected model to the test set. The final metrics are given in **?@tbl-rf-performance-html**."
   ],
   "id": "68824047-a755-45dd-987c-026a39032409"
  },
  {
   "cell_type": "code",
   "execution_count": null,
   "metadata": {},
   "outputs": [],
   "source": [
    "# Use the best fit to make predictions on the test data.\n",
    "rf_pred <- \n",
    "  rf_final_fit |> \n",
    "  tune::collect_predictions() |>\n",
    "  dplyr::mutate(truth = factor(.pred_class))"
   ],
   "id": "81410de2-4d3e-42a3-a9fe-388673f6e9d9"
  },
  {
   "cell_type": "code",
   "execution_count": null,
   "metadata": {},
   "outputs": [],
   "source": [
    "# Create metrics table.\n",
    "rf_metrics_table <- list(\n",
    "  'Accuracy' = yardstick::accuracy_vec(truth = rf_pred[['.pred_class']],\n",
    "                                       estimate = test_outcome),\n",
    "  'Precision' = yardstick::precision_vec(truth = rf_pred[['.pred_class']],\n",
    "                                         estimate = test_outcome),\n",
    "  'Recall' = yardstick::recall_vec(truth = rf_pred[['.pred_class']],\n",
    "                                   estimate = test_outcome),\n",
    "  'Specificity' = yardstick::specificity_vec(truth = rf_pred[['.pred_class']],\n",
    "                                            estimate = test_outcome)\n",
    ") |>\n",
    "  dplyr::bind_cols() |>\n",
    "  tidyr::pivot_longer(cols = dplyr::everything(), names_to = 'Metric', values_to = 'Value') |>\n",
    "  dplyr::mutate(Value = round(Value*100, 1))\n",
    "\n",
    "readr::write_csv(x = rf_metrics_table, file = here::here('data', 'rf-metrics.csv'))"
   ],
   "id": "dcf05325-c7a1-42d7-a883-acfb092041d3"
  },
  {
   "cell_type": "markdown",
   "metadata": {},
   "source": [
    "# 5. Model Comparison\n",
    "\n",
    "To assess model performance, we will compare the accuracy, precision, recall, and specificity metrics of our models. These metrics are defined as follows.\n",
    "\n",
    "-   Accuracy: proportion of correct predictions for the test data or $\\frac{TN + TP}{TN + TP + FN + FP}$.\n",
    "\n",
    "-   Precision: proportion of correctly classified positive observations among all observations that are classified as positive by the model or $\\frac{TP}{TP + FP}$.\n",
    "\n",
    "-   Recall: proportion of correctly classified positive observations among all actual positive observations or $\\frac{TP}{TP + FN}$.\n",
    "\n",
    "-   Specificity: proportion of correctly classified negative observations among all actual negative observations or $\\frac{TN}{TN + FP}$."
   ],
   "id": "44e17a4e-9671-419f-bca5-a313d8033ba4"
  },
  {
   "cell_type": "code",
   "execution_count": null,
   "metadata": {},
   "outputs": [
    {
     "output_type": "stream",
     "name": "stderr",
     "text": [
      "Rows: 4 Columns: 2\n",
      "── Column specification ────────────────────────────────────────────────────────\n",
      "Delimiter: \",\"\n",
      "chr (1): Metric\n",
      "dbl (1): Value\n",
      "\n",
      "ℹ Use `spec()` to retrieve the full column specification for this data.\n",
      "ℹ Specify the column types or set `show_col_types = FALSE` to quiet this message.\n",
      "Rows: 4 Columns: 2\n",
      "── Column specification ────────────────────────────────────────────────────────\n",
      "Delimiter: \",\"\n",
      "chr (1): Metric\n",
      "dbl (1): Value\n",
      "\n",
      "ℹ Use `spec()` to retrieve the full column specification for this data.\n",
      "ℹ Specify the column types or set `show_col_types = FALSE` to quiet this message.\n",
      "Rows: 4 Columns: 2\n",
      "── Column specification ────────────────────────────────────────────────────────\n",
      "Delimiter: \",\"\n",
      "chr (1): Metric\n",
      "dbl (1): Value\n",
      "\n",
      "ℹ Use `spec()` to retrieve the full column specification for this data.\n",
      "ℹ Specify the column types or set `show_col_types = FALSE` to quiet this message.\n",
      "Rows: 4 Columns: 2\n",
      "── Column specification ────────────────────────────────────────────────────────\n",
      "Delimiter: \",\"\n",
      "chr (1): Metric\n",
      "dbl (1): Value\n",
      "\n",
      "ℹ Use `spec()` to retrieve the full column specification for this data.\n",
      "ℹ Specify the column types or set `show_col_types = FALSE` to quiet this message.\n",
      "Rows: 4 Columns: 2\n",
      "── Column specification ────────────────────────────────────────────────────────\n",
      "Delimiter: \",\"\n",
      "chr (1): Metric\n",
      "dbl (1): Value\n",
      "\n",
      "ℹ Use `spec()` to retrieve the full column specification for this data.\n",
      "ℹ Specify the column types or set `show_col_types = FALSE` to quiet this message.\n",
      "Rows: 4 Columns: 2\n",
      "── Column specification ────────────────────────────────────────────────────────\n",
      "Delimiter: \",\"\n",
      "chr (1): Metric\n",
      "dbl (1): Value\n",
      "\n",
      "ℹ Use `spec()` to retrieve the full column specification for this data.\n",
      "ℹ Specify the column types or set `show_col_types = FALSE` to quiet this message."
     ]
    }
   ],
   "source": [
    "models_performance <-\n",
    "  dplyr::bind_rows(\n",
    "    readr::read_csv('data/knn-metrics.csv') |>\n",
    "      dplyr::mutate('Model' = 'KNN', .before = 1),\n",
    "    readr::read_csv('data/svm-metrics.csv') |>\n",
    "      dplyr::mutate('Model' = 'SVM', .before = 1),\n",
    "    readr::read_csv('data/ann-metrics.csv') |>\n",
    "      dplyr::mutate('Model' = 'ANN', .before = 1),\n",
    "    readr::read_csv('data/lr-metrics.csv') |>\n",
    "      dplyr::mutate('Model' = 'Logistic Regression', .before = 1),\n",
    "    readr::read_csv('data/xgboost-metrics.csv') |>\n",
    "      dplyr::mutate('Model' = 'XGBoost', .before = 1),\n",
    "    readr::read_csv('data/rf-metrics.csv') |>\n",
    "      dplyr::mutate('Model' = 'Random Forest', .before = 1)\n",
    "  ) |>\n",
    "  dplyr::filter(Value == max(Value), .by = Metric) |>\n",
    "  dplyr::reframe(Model = paste0(Model, collapse = ', '), .by = c(Metric, Value)) |>\n",
    "  dplyr::select(Metric, Model, Value) |>\n",
    "  dplyr::arrange(Metric) |>\n",
    "  dplyr::mutate(Value = paste0(round(Value), '%'))"
   ],
   "id": "88fad3da-b394-4554-9be3-5ddb3c1d2257"
  },
  {
   "cell_type": "markdown",
   "metadata": {},
   "source": [
    "We evaluated the performance of our models on the Thyroid dataset using the metrics shown in **?@tbl-overall-performance-html**.\n",
    "\n",
    "The Random Forest model emerged as the top performer in terms of overall accuracy and specificity, achieving a $94\\%$ accuracy rate and a $94\\%$ specificity rate, indicating its robustness in correctly identifying negative cases. The precision metric, though the lowest among the metrics, was $85\\%$ across the Artificial Neural Network, Logistic Regression, and Random Forest models, reflecting their ability to correctly classify positive cases. The Support Vector Machine model stood out in terms of recall, achieving a perfect score of $100\\%$, suggesting its effectiveness in capturing all positive cases. These results highlight the Random Forest model as the most balanced and reliable for this classification task, combining high accuracy and specificity with competitive precision, while the SVM model excels in recall, making it particularly suitable for ensuring that all positive cases are identified."
   ],
   "id": "3a46236e-3490-4526-9559-0b9688915859"
  },
  {
   "cell_type": "raw",
   "metadata": {
    "raw_mimetype": "text/html"
   },
   "source": [
    "<!-- ```{r model-metrics} -->"
   ],
   "id": "d94a5487-bafa-447e-b1fa-539bc0d165f5"
  },
  {
   "cell_type": "raw",
   "metadata": {
    "raw_mimetype": "text/html"
   },
   "source": [
    "<!-- #| label: tbl-overall-performance -->"
   ],
   "id": "f5ff6c39-9392-4ffa-9a61-1661b9293ef1"
  },
  {
   "cell_type": "raw",
   "metadata": {
    "raw_mimetype": "text/html"
   },
   "source": [
    "<!-- #| tbl-cap: \"Performance Metrics for KNN, SVM, and ANN in Terms of Accuracy, Precision, Recall, and Specificity\" -->"
   ],
   "id": "aa154d94-17ff-4249-9a82-2dfbc272881b"
  },
  {
   "cell_type": "raw",
   "metadata": {
    "raw_mimetype": "text/html"
   },
   "source": [
    "<!-- #| tbl-alt: \"Performance Metrics for KNN, SVM, and ANN in Terms of Accuracy, Precision, Recall, and Specificity\" -->"
   ],
   "id": "3eebfca7-9611-4140-ad7a-5f6c339b96c9"
  },
  {
   "cell_type": "raw",
   "metadata": {
    "raw_mimetype": "text/html"
   },
   "source": [
    "<!-- # Compile metrics for each model. -->"
   ],
   "id": "cfc136e1-53a2-4be9-ba85-5d081e0b4fb4"
  },
  {
   "cell_type": "raw",
   "metadata": {
    "raw_mimetype": "text/html"
   },
   "source": [
    "<!-- models_performance <- -->"
   ],
   "id": "42115a50-7e08-402d-99c2-79a0e2d5e909"
  },
  {
   "cell_type": "raw",
   "metadata": {
    "raw_mimetype": "text/html"
   },
   "source": [
    "<!--   dplyr::bind_rows( -->"
   ],
   "id": "9a66ee2c-823c-4d20-bb78-a905d0cb66d2"
  },
  {
   "cell_type": "raw",
   "metadata": {
    "raw_mimetype": "text/html"
   },
   "source": [
    "<!--     readr::read_csv('data/knn-metrics.csv') |> -->"
   ],
   "id": "aba8946a-8c42-4222-b397-7e9b773d03aa"
  },
  {
   "cell_type": "raw",
   "metadata": {
    "raw_mimetype": "text/html"
   },
   "source": [
    "<!--       dplyr::mutate('Model' = 'KNN', .before = 1), -->"
   ],
   "id": "83b671c4-6da8-43db-b75c-d64ddeb6e5a8"
  },
  {
   "cell_type": "raw",
   "metadata": {
    "raw_mimetype": "text/html"
   },
   "source": [
    "<!--     readr::read_csv('data/svm-metrics.csv') |> -->"
   ],
   "id": "b03f893f-d91b-4185-8e99-f025a8ab0474"
  },
  {
   "cell_type": "raw",
   "metadata": {
    "raw_mimetype": "text/html"
   },
   "source": [
    "<!--       dplyr::mutate('Model' = 'SVM', .before = 1), -->"
   ],
   "id": "a897e643-7943-4626-94ea-2d45271af702"
  },
  {
   "cell_type": "raw",
   "metadata": {
    "raw_mimetype": "text/html"
   },
   "source": [
    "<!--     readr::read_csv('data/ann-metrics.csv') |> -->"
   ],
   "id": "ec3c721c-82fe-4f03-a3ac-6991d3a89401"
  },
  {
   "cell_type": "raw",
   "metadata": {
    "raw_mimetype": "text/html"
   },
   "source": [
    "<!--       dplyr::mutate('Model' = 'ANN', .before = 1) -->"
   ],
   "id": "c833054b-1102-45f6-889e-f255b255bd01"
  },
  {
   "cell_type": "raw",
   "metadata": {
    "raw_mimetype": "text/html"
   },
   "source": [
    "<!--   ) -->"
   ],
   "id": "aa4cbc67-1f27-49da-9abc-f405e3ccaab7"
  },
  {
   "cell_type": "raw",
   "metadata": {
    "raw_mimetype": "text/html"
   },
   "source": [
    "<!-- # Prepare table's theme. -->"
   ],
   "id": "e882e692-6a8e-4f00-ac62-e6128ed0120f"
  },
  {
   "cell_type": "raw",
   "metadata": {
    "raw_mimetype": "text/html"
   },
   "source": [
    "<!-- theme <- reactable::reactableTheme( -->"
   ],
   "id": "3b57497e-b497-4a27-93ff-847b7abc1d62"
  },
  {
   "cell_type": "raw",
   "metadata": {
    "raw_mimetype": "text/html"
   },
   "source": [
    "<!--   borderColor = \"#dfe2e5\", -->"
   ],
   "id": "7f9e89fc-b3da-4732-b903-8b2df27a5137"
  },
  {
   "cell_type": "raw",
   "metadata": {
    "raw_mimetype": "text/html"
   },
   "source": [
    "<!--   stripedColor = \"#f6f8fa\", -->"
   ],
   "id": "c0b81c55-a09b-49ee-a124-e514d83a281a"
  },
  {
   "cell_type": "raw",
   "metadata": {
    "raw_mimetype": "text/html"
   },
   "source": [
    "<!--   highlightColor = \"#f0f5f9\", -->"
   ],
   "id": "37ed4fe3-b8aa-44c5-9d1e-16d0c1b9e0a7"
  },
  {
   "cell_type": "raw",
   "metadata": {
    "raw_mimetype": "text/html"
   },
   "source": [
    "<!--   cellPadding = \"8px 12px\" -->"
   ],
   "id": "0cee03bf-d337-422b-8fff-ed0b70058d54"
  },
  {
   "cell_type": "raw",
   "metadata": {
    "raw_mimetype": "text/html"
   },
   "source": [
    "<!-- ) -->"
   ],
   "id": "45750a62-a703-4053-9cf1-c6e83227d234"
  },
  {
   "cell_type": "raw",
   "metadata": {
    "raw_mimetype": "text/html"
   },
   "source": [
    "<!-- # Show models' performance. -->"
   ],
   "id": "1e48e7c7-1471-4018-888c-ca5cf5131211"
  },
  {
   "cell_type": "raw",
   "metadata": {
    "raw_mimetype": "text/html"
   },
   "source": [
    "<!-- models_performance |> -->"
   ],
   "id": "7c009516-6751-4c6a-8201-eb5c7576cc07"
  },
  {
   "cell_type": "raw",
   "metadata": {
    "raw_mimetype": "text/html"
   },
   "source": [
    "<!--   dplyr::mutate(Value = paste0(Value, '%')) |> -->"
   ],
   "id": "08073235-1514-4f6f-87a7-2f6efdeed28e"
  },
  {
   "cell_type": "raw",
   "metadata": {
    "raw_mimetype": "text/html"
   },
   "source": [
    "<!--   reactable::reactable( -->"
   ],
   "id": "b7fc6728-5deb-4b8c-ae1c-26b13c85dbc9"
  },
  {
   "cell_type": "raw",
   "metadata": {
    "raw_mimetype": "text/html"
   },
   "source": [
    "<!--     defaultExpanded = TRUE, -->"
   ],
   "id": "b25260e3-08be-4f81-bbb4-b6e2c14c2798"
  },
  {
   "cell_type": "raw",
   "metadata": {
    "raw_mimetype": "text/html"
   },
   "source": [
    "<!--     groupBy = 'Model', -->"
   ],
   "id": "cae7c299-7bfe-4e35-9147-72cbb271f979"
  },
  {
   "cell_type": "raw",
   "metadata": {
    "raw_mimetype": "text/html"
   },
   "source": [
    "<!--     searchable = FALSE, -->"
   ],
   "id": "0bbce33b-33ba-461c-92f7-5f14dc57123b"
  },
  {
   "cell_type": "raw",
   "metadata": {
    "raw_mimetype": "text/html"
   },
   "source": [
    "<!--     resizable = TRUE, -->"
   ],
   "id": "41744ac2-2f2d-49ce-90b0-2b186a029cc3"
  },
  {
   "cell_type": "raw",
   "metadata": {
    "raw_mimetype": "text/html"
   },
   "source": [
    "<!--     onClick = \"expand\", -->"
   ],
   "id": "4705f7d3-0c16-4e20-9988-6c5a2371097e"
  },
  {
   "cell_type": "raw",
   "metadata": {
    "raw_mimetype": "text/html"
   },
   "source": [
    "<!--     bordered = TRUE, -->"
   ],
   "id": "5536a8a5-8de1-4461-b24f-1ca37f4c1b90"
  },
  {
   "cell_type": "raw",
   "metadata": {
    "raw_mimetype": "text/html"
   },
   "source": [
    "<!--     highlight = TRUE, -->"
   ],
   "id": "89b95885-512d-45da-8998-caca77f6fbcc"
  },
  {
   "cell_type": "raw",
   "metadata": {
    "raw_mimetype": "text/html"
   },
   "source": [
    "<!--     compact = TRUE, -->"
   ],
   "id": "de8defd7-2e63-44e1-a0ea-581a5a1cf769"
  },
  {
   "cell_type": "raw",
   "metadata": {
    "raw_mimetype": "text/html"
   },
   "source": [
    "<!--     height = \"auto\", -->"
   ],
   "id": "dadc8a05-9013-46d6-923f-bb00a13127d9"
  },
  {
   "cell_type": "raw",
   "metadata": {
    "raw_mimetype": "text/html"
   },
   "source": [
    "<!--     theme = theme -->"
   ],
   "id": "3885fd9f-c51c-413d-958f-9f109777ff82"
  },
  {
   "cell_type": "raw",
   "metadata": {
    "raw_mimetype": "text/html"
   },
   "source": [
    "<!--   ) -->"
   ],
   "id": "6bc31b4d-e852-46e2-b550-f2035fcbebcd"
  },
  {
   "cell_type": "raw",
   "metadata": {
    "raw_mimetype": "text/html"
   },
   "source": [
    "<!-- ``` -->"
   ],
   "id": "9390f566-7567-4368-811f-0667029bcaa0"
  },
  {
   "cell_type": "raw",
   "metadata": {
    "raw_mimetype": "text/html"
   },
   "source": [
    "<!----------------------------------------------------------------------------->"
   ],
   "id": "b08230ae-07b2-4e05-90c4-cfafa2c14d84"
  },
  {
   "cell_type": "raw",
   "metadata": {
    "raw_mimetype": "text/html"
   },
   "source": [
    "<!---------------------------- ## CONCLUSION ---------------------------------->"
   ],
   "id": "91b81e5a-9c10-4947-80d8-e2ef87a4abff"
  },
  {
   "cell_type": "raw",
   "metadata": {
    "raw_mimetype": "text/html"
   },
   "source": [
    "<!----------------------------------------------------------------------------->"
   ],
   "id": "de358252-917f-4a76-a39e-8cd002874544"
  },
  {
   "cell_type": "markdown",
   "metadata": {},
   "source": [
    "# 6. Conclusion\n",
    "\n",
    "This study aimed to evaluate and compare the effectiveness of various machine learning models in predicting the recurrence of Differentiated Thyroid Cancer (DTC). By examining key metrics such as accuracy, precision, recall, and specificity, we assessed the performance of models including Artificial Neural Network (ANN), Logistic Regression (LR), K-Nearest Neighbors (KNN), Support Vector Machine (SVM), Random Forest (RF), and Extreme Gradient Boosting (XGBoost).\n",
    "\n",
    "Our findings indicate that the Random Forest model is the most robust and balanced classifier for this task. It achieved the highest accuracy and specificity rates, both at $94\\%$, demonstrating its reliability in correctly identifying both positive and negative cases. This suggests that Random Forest is highly effective in distinguishing between patients who will and will not experience a recurrence of thyroid cancer.\n",
    "\n",
    "In terms of precision, the ANN, Logistic Regression, and Random Forest models all achieved an $85\\%$ precision rate. This shows that these models are equally competent in accurately predicting positive cases among those identified as positive, minimizing false positives.\n",
    "\n",
    "The SVM model excelled in recall, achieving a perfect score of $100\\%$. This indicates that SVM is exceptionally effective at capturing all actual positive cases, making it a critical tool when the primary goal is to ensure that no positive cases are missed. This is particularly important in medical diagnostics where missing a positive case can have serious implications.\n",
    "\n",
    "Overall, while the Random Forest model provides the best balance of performance across all metrics, the SVM model’s outstanding recall rate highlights its utility in scenarios where it is crucial to identify all positive cases. These results underscore the importance of selecting the appropriate model based on the specific needs of the task. For balanced performance and overall robustness, Random Forest is recommended. However, for applications where recall is paramount, SVM is the superior choice.\n",
    "\n",
    "Future work can explore the integration of these models in a hybrid approach, leveraging the strengths of each to further improve prediction accuracy and reliability. Additionally, investigating the impact of different feature engineering techniques and more sophisticated hyperparameter tuning methods may yield further enhancements in model performance.\n",
    "\n",
    "These findings contribute valuable insights into the application of machine learning in medical diagnostics, particularly for predicting the recurrence of DTC, and pave the way for more personalized and accurate treatment strategies."
   ],
   "id": "6c4836a1-653e-4ab6-b1ef-b10816b18239"
  },
  {
   "cell_type": "raw",
   "metadata": {
    "raw_mimetype": "text/html"
   },
   "source": [
    "<!----------------------------------------------------------------------------->"
   ],
   "id": "6706c9d3-4269-4c73-b7ec-feb71fb49010"
  },
  {
   "cell_type": "raw",
   "metadata": {
    "raw_mimetype": "text/html"
   },
   "source": [
    "<!------------------------- ## INFORMED CONSENT ------------------------------->"
   ],
   "id": "a30a5a21-c41a-4aef-b561-9512ea5365b2"
  },
  {
   "cell_type": "raw",
   "metadata": {
    "raw_mimetype": "text/html"
   },
   "source": [
    "<!----------------------------------------------------------------------------->"
   ],
   "id": "c789b624-2a7d-4707-bc71-46d8dbfaf752"
  },
  {
   "cell_type": "markdown",
   "metadata": {},
   "source": [
    "# 7. Informed Consent\n",
    "\n",
    "We used anonymous data for modeling and no consent was required for conducting this study."
   ],
   "id": "6290f83e-377c-443d-8ce9-bd710ec84aef"
  },
  {
   "cell_type": "raw",
   "metadata": {
    "raw_mimetype": "text/html"
   },
   "source": [
    "<!----------------------------------------------------------------------------->"
   ],
   "id": "334c9a54-e29a-4b8f-9d56-74d1a4ba479c"
  },
  {
   "cell_type": "raw",
   "metadata": {
    "raw_mimetype": "text/html"
   },
   "source": [
    "<!----------------------------- ## REVIEW BOARD ------------------------------->"
   ],
   "id": "0ff389ff-ee4c-4fd7-84ee-5b4d628653fe"
  },
  {
   "cell_type": "raw",
   "metadata": {
    "raw_mimetype": "text/html"
   },
   "source": [
    "<!----------------------------------------------------------------------------->"
   ],
   "id": "461024f8-385c-4a89-a996-0c0d206b53c9"
  },
  {
   "cell_type": "markdown",
   "metadata": {},
   "source": [
    "# 8. Institutional Review Board Statement\n",
    "\n",
    "Not applicable"
   ],
   "id": "84755b1e-e04e-4b60-8b2d-fb8e5e60fb9e"
  },
  {
   "cell_type": "raw",
   "metadata": {
    "raw_mimetype": "text/html"
   },
   "source": [
    "<!----------------------------------------------------------------------------->"
   ],
   "id": "9b5c07a6-30a0-49ed-9c71-4bba0ea25cde"
  },
  {
   "cell_type": "raw",
   "metadata": {
    "raw_mimetype": "text/html"
   },
   "source": [
    "<!----------------------------- ## FUNDING ------------------------------------>"
   ],
   "id": "e49d24fd-8c6b-44f5-9dbb-5f19fcf4ed1b"
  },
  {
   "cell_type": "raw",
   "metadata": {
    "raw_mimetype": "text/html"
   },
   "source": [
    "<!----------------------------------------------------------------------------->"
   ],
   "id": "a18e1111-b429-4ecf-8018-cdfc5eac7373"
  },
  {
   "cell_type": "markdown",
   "metadata": {},
   "source": [
    "# 9. Funding\n",
    "\n",
    "There was no funding for conducting this study."
   ],
   "id": "17233455-d9db-4709-be23-13418367bfe4"
  },
  {
   "cell_type": "raw",
   "metadata": {
    "raw_mimetype": "text/html"
   },
   "source": [
    "<!----------------------------------------------------------------------------->"
   ],
   "id": "37a4f447-975d-4678-8616-a78f9fdc365c"
  },
  {
   "cell_type": "raw",
   "metadata": {
    "raw_mimetype": "text/html"
   },
   "source": [
    "<!------------------------ ## DATA AVAILABILITY ------------------------------->"
   ],
   "id": "ec169776-e396-47a8-a783-e930a8431071"
  },
  {
   "cell_type": "raw",
   "metadata": {
    "raw_mimetype": "text/html"
   },
   "source": [
    "<!----------------------------------------------------------------------------->"
   ],
   "id": "cbda4832-932e-43b5-a9a1-eafc99b6d1bc"
  },
  {
   "cell_type": "markdown",
   "metadata": {},
   "source": [
    "# 10. Data Availability Statement\n",
    "\n",
    "The data is available at the UC Irvine Machine Learning Repository \\[[12](#ref-ucidata)\\]. For more information, please refer to \\[[4](#ref-borzooei2023)\\]."
   ],
   "id": "1f7f3b1d-2ac6-485b-89fb-4df72398a079"
  },
  {
   "cell_type": "raw",
   "metadata": {
    "raw_mimetype": "text/html"
   },
   "source": [
    "<!----------------------------------------------------------------------------->"
   ],
   "id": "a91c0ccf-9267-44f8-8073-ba403c71083b"
  },
  {
   "cell_type": "raw",
   "metadata": {
    "raw_mimetype": "text/html"
   },
   "source": [
    "<!----------------------- ## ACKNOWLEDGMENTS ---------------------------------->"
   ],
   "id": "f87fb9a3-0bf8-4ca8-8b60-eb482d225f4e"
  },
  {
   "cell_type": "raw",
   "metadata": {
    "raw_mimetype": "text/html"
   },
   "source": [
    "<!----------------------------------------------------------------------------->"
   ],
   "id": "f649d24d-db2f-46ba-856e-48ef4d1d2091"
  },
  {
   "cell_type": "markdown",
   "metadata": {},
   "source": [
    "# 11. Acknowledgments\n",
    "\n",
    "We thank our PRIMES mentor, Dr. Marly Gotti, for her guidance throughout the reading and research periods. We are also grateful to the PRIMES organizers for making this program possible."
   ],
   "id": "95fe7ac9-fe50-46f2-bd85-8db09f0f2bd7"
  },
  {
   "cell_type": "raw",
   "metadata": {
    "raw_mimetype": "text/html"
   },
   "source": [
    "<!----------------------------------------------------------------------------->"
   ],
   "id": "d879990a-552a-4f83-9ac7-42d3911eb686"
  },
  {
   "cell_type": "raw",
   "metadata": {
    "raw_mimetype": "text/html"
   },
   "source": [
    "<!--------------------------- ## CONFLICTS ------------------------------------>"
   ],
   "id": "9426268f-ecc2-43d0-a0af-51006b65fd60"
  },
  {
   "cell_type": "raw",
   "metadata": {
    "raw_mimetype": "text/html"
   },
   "source": [
    "<!----------------------------------------------------------------------------->"
   ],
   "id": "90b7b44a-0f21-490c-9513-3a1f9e7c34bb"
  },
  {
   "cell_type": "markdown",
   "metadata": {},
   "source": [
    "# 12. Conflicts of Interest\n",
    "\n",
    "None"
   ],
   "id": "59d4e568-088d-44dc-92f0-5367f83720a6"
  },
  {
   "cell_type": "raw",
   "metadata": {
    "raw_mimetype": "text/html"
   },
   "source": [
    "<!----------------------------------------------------------------------------->"
   ],
   "id": "23da7d06-31eb-4cb4-9530-cc5dcd9bb6f3"
  },
  {
   "cell_type": "raw",
   "metadata": {
    "raw_mimetype": "text/html"
   },
   "source": [
    "<!------------------------- ## ABBREVIATIONS ---------------------------------->"
   ],
   "id": "9f64a3d9-05ad-452a-abc5-db85734c0f78"
  },
  {
   "cell_type": "raw",
   "metadata": {
    "raw_mimetype": "text/html"
   },
   "source": [
    "<!----------------------------------------------------------------------------->"
   ],
   "id": "dbaf8f9a-9207-4fca-978d-71f15bc061eb"
  },
  {
   "cell_type": "markdown",
   "metadata": {},
   "source": [
    "# 13. Abbreviations\n",
    "\n",
    "The following abbreviations are used in this manuscript:\n",
    "\n",
    "-   KNN: K-Nearest Neighbors\n",
    "-   SVM: Support Vector Machine\n",
    "-   RBF: Radial Basis Function\n",
    "-   ANN: Artificial Neural Network\n",
    "-   NNs: Neural Network(s)\n",
    "-   RF: Random Forest\n",
    "-   LR: Logistic Regression\n",
    "-   XGBoost: Extreme Gradient Boosting\n",
    "-   DTC: Differentiated Thyroid Cancer\n",
    "-   ML: Machine Learning"
   ],
   "id": "00cd60ec-664d-4305-ac39-3e89c231d2e8"
  },
  {
   "cell_type": "raw",
   "metadata": {
    "raw_mimetype": "text/html"
   },
   "source": [
    "<!----------------------------------------------------------------------------->"
   ],
   "id": "a9e4c450-a44f-4c5b-b7d9-474f9e8d5e7a"
  },
  {
   "cell_type": "raw",
   "metadata": {
    "raw_mimetype": "text/html"
   },
   "source": [
    "<!-------------------------- ## REFERENCES ------------------------------------>"
   ],
   "id": "64ff51c2-ac52-4dc8-9e54-2ffdeb76001e"
  },
  {
   "cell_type": "raw",
   "metadata": {
    "raw_mimetype": "text/html"
   },
   "source": [
    "<!----------------------------------------------------------------------------->"
   ],
   "id": "cf1879dc-5ddb-4c9a-9fb9-d769c23d2370"
  },
  {
   "cell_type": "markdown",
   "metadata": {},
   "source": [
    "# References\n",
    "\n",
    "<span class=\"csl-left-margin\">\\[1\\] </span><span class=\"csl-right-inline\"><span class=\"smallcaps\">Pellegriti</span>, G., <span class=\"smallcaps\">Frasca</span>, F., <span class=\"smallcaps\">Regalbuto</span>, C., <span class=\"smallcaps\">Squatrito</span>, S. and <span class=\"smallcaps\">Vigneri</span>, R. (2013). [Worldwide increasing incidence of thyroid cancer: Update on epidemiology and risk factors](https://doi.org/10.1155/2013/965212). *Journal of Cancer Epidemiology* **2013** 1–10.</span>\n",
    "\n",
    "<span class=\"csl-left-margin\">\\[2\\] </span><span class=\"csl-right-inline\"><span class=\"smallcaps\">Bhattacharya</span>, S., <span class=\"smallcaps\">Mahato</span>, R. K., <span class=\"smallcaps\">Singh</span>, S., <span class=\"smallcaps\">Bhatti</span>, G. K., <span class=\"smallcaps\">Mastana</span>, S. S. and <span class=\"smallcaps\">Bhatti</span>, J. S. (2023). [Advances and challenges in thyroid cancer: The interplay of genetic modulators, targeted therapies, and AI-driven approaches](https://doi.org/10.1016/j.lfs.2023.122110). *Life Sciences* **332** 122110.</span>\n",
    "\n",
    "<span class=\"csl-left-margin\">\\[3\\] </span><span class=\"csl-right-inline\"><span class=\"smallcaps\">NM</span>, X., <span class=\"smallcaps\">L</span>, W. and <span class=\"smallcaps\">C.</span>, Y. (2022). [Improving the diagnosis of thyroid cancer by machine learning and clinical data](https://doi.org/10.1038/s41598-022-15342-z). *Scientific report* **12** 11143.</span>\n",
    "\n",
    "<span class=\"csl-left-margin\">\\[4\\] </span><span class=\"csl-right-inline\"><span class=\"smallcaps\">Borzooei</span>, S. and <span class=\"smallcaps\">Tarokhian</span>, A. (2023). [Differentiated thyroid cancer recurrence](https://doi.org/10.24432/C5632J). *UCI Machine Learning Repository*.</span>\n",
    "\n",
    "<span class=\"csl-left-margin\">\\[5\\] </span><span class=\"csl-right-inline\"><span class=\"smallcaps\">Abiodun</span>, O. I., <span class=\"smallcaps\">Jantan</span>, A., <span class=\"smallcaps\">Omolara</span>, A. E., <span class=\"smallcaps\">Dada</span>, K. V., <span class=\"smallcaps\">Mohamed</span>, N. A. and <span class=\"smallcaps\">Arshad</span>, H. (2018). [State-of-the-art in artificial neural network applications: A survey](https://doi.org/10.1016/j.heliyon.2018.e00938). *Heliyon* **4** e00938.</span>\n",
    "\n",
    "<span class=\"csl-left-margin\">\\[6\\] </span><span class=\"csl-right-inline\"><span class=\"smallcaps\">Cervantes</span>, J., <span class=\"smallcaps\">Garcia-Lamont</span>, F., <span class=\"smallcaps\">Rodríguez-Mazahua</span>, L. and <span class=\"smallcaps\">Lopez</span>, A. (2020). [A comprehensive survey on support vector machine classification: Applications, challenges and trends](https://doi.org/10.1016/j.neucom.2019.10.118). *Neurocomputing* **408** 189–215.</span>\n",
    "\n",
    "<span class=\"csl-left-margin\">\\[7\\] </span><span class=\"csl-right-inline\"><span class=\"smallcaps\">Syriopoulos</span>, P. K., <span class=\"smallcaps\">Kotsiantis</span>, S. B. and <span class=\"smallcaps\">Vrahatis</span>, M. N. (2022). [Survey on KNN methods in data science](https://doi.org/10.1007/978-3-031-24866-5_28). In *Learning and intelligent optimization* (D. E. Simos, V. A. Rasskazova, F. Archetti, I. S. Kotsireas and P. M. Pardalos, ed) pp 379–93. Springer International Publishing, Cham.</span>\n",
    "\n",
    "<span class=\"csl-left-margin\">\\[8\\] </span><span class=\"csl-right-inline\"><span class=\"smallcaps\">Maalouf</span>, M. (2011). [Logistic regression in data analysis: An overview](https://doi.org/10.1504/IJDATS.2011.041335). *International Journal of Data Analysis Techniques and Strategies* **3** 281–99.</span>\n",
    "\n",
    "<span class=\"csl-left-margin\">\\[9\\] </span><span class=\"csl-right-inline\"><span class=\"smallcaps\">Genuer</span>, R., <span class=\"smallcaps\">Poggi</span>, J.-M. and <span class=\"smallcaps\">Tuleau-Malot</span>, C. (2010). [Variable selection using random forests](https://doi.org/10.1016/j.patrec.2010.03.014). *Pattern Recognition Letters* **31** 2225–36.</span>\n",
    "\n",
    "<span class=\"csl-left-margin\">\\[10\\] </span><span class=\"csl-right-inline\"><span class=\"smallcaps\">Anju</span> and <span class=\"smallcaps\">Sharma</span>, N. (2018). [Survey of boosting algorithms for big data applications](https://www.ijert.org/survey-of-boosting-algorithms-for-big-data-applications). *International Journal of Engineering Research and Technology (IJERT)* **5**.</span>\n",
    "\n",
    "<span class=\"csl-left-margin\">\\[11\\] </span><span class=\"csl-right-inline\"><span class=\"smallcaps\">Kourou</span>, K., <span class=\"smallcaps\">Exarchos</span>, T. P., <span class=\"smallcaps\">Exarchos</span>, K. P., <span class=\"smallcaps\">Karamouzis</span>, M. V. and <span class=\"smallcaps\">Fotiadis</span>, D. I. (2015). [Machine learning applications in cancer prognosis and prediction](https://doi.org/10.1016/j.csbj.2014.11.005). *Computational and Structural Biotechnology Journal* **13** 8–17.</span>\n",
    "\n",
    "<span class=\"csl-left-margin\">\\[12\\] </span><span class=\"csl-right-inline\"><span class=\"smallcaps\">Kelly</span>, R., Markelle andLongjohn and <span class=\"smallcaps\">Nottingham</span>, K. [The UCI machine learning repository](https://archive.ics.uci.edu).</span>\n",
    "\n",
    "<span class=\"csl-left-margin\">\\[13\\] </span><span class=\"csl-right-inline\"><span class=\"smallcaps\">G. James</span>, T. H., D. Witten and <span class=\"smallcaps\">Tibshirani</span>, R. (2021). *An introduction to statistical learning*. Springer Texts in Statistics.</span>"
   ],
   "id": "7be0bf2a-545a-4b87-b884-16af56b9d078"
  }
 ],
 "nbformat": 4,
 "nbformat_minor": 5,
 "metadata": {}
}
