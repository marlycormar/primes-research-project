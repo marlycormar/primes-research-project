{
 "cells": [
  {
   "cell_type": "markdown",
   "metadata": {},
   "source": [
    "# \n",
    "\n",
    "# Abbreviations\n",
    "\n",
    "The following abbreviations are used in this manuscript:\n",
    "\n",
    "-   KNN: K-Nearest Neighbors\n",
    "-   SVM: Support Vector Machine\n",
    "-   RBF: Radial Basis Function\n",
    "-   ANN: Artificial Neural Network\n",
    "-   NNs: Neural Network(s)\n",
    "-   RF: Random Forest\n",
    "-   LR: Logistic Regression\n",
    "-   XGBoost: Extreme Gradient Boosting\n",
    "-   DTC: Differentiated Thyroid Cancer\n",
    "-   ML: Machine Learning"
   ],
   "id": "1a329729-513f-4c36-943b-fc419bb03b65"
  }
 ],
 "nbformat": 4,
 "nbformat_minor": 5,
 "metadata": {}
}
