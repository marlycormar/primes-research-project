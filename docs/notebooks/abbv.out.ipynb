{
 "cells": [
  {
   "cell_type": "markdown",
   "metadata": {},
   "source": [
    "# \n",
    "\n",
    "# Abbreviations\n",
    "\n",
    "The following abbreviations are used in this manuscript:\n",
    "\n",
    "-   KNN: K-Nearest Neighbors\n",
    "-   SVM: Support Vector Machine\n",
    "-   RBF: Radial Basis Function\n",
    "-   ANN: Artificial Neural Network\n",
    "-   NNs: Neural Network(s)\n",
    "-   RF: Random Forest\n",
    "-   LR: Logistic Regression\n",
    "-   XGBoost: Extreme Gradient Boosting\n",
    "-   DTC: Differentiated Thyroid Cancer\n",
    "-   ML: Machine Learning"
   ],
   "id": "95621db7-4d95-4c3b-86af-3bf2f370e0ed"
  }
 ],
 "nbformat": 4,
 "nbformat_minor": 5,
 "metadata": {}
}
