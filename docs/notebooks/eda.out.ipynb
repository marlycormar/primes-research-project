{
 "cells": [
  {
   "cell_type": "markdown",
   "metadata": {},
   "source": [
    "# \n",
    "\n",
    "# Data Analysis\n",
    "\n",
    "Our study focuses on the “Differentiated Thyroid Cancer Recurrence” dataset @borzooei2023 hosted by the UCI Machine Learning Repository. The UCI Machine Learning Repository offers a wide array of datasets used for empirical analysis in machine learning and data mining @ucidata. Established by the University of California, Irvine, this repository facilitates academic and educational pursuits by providing free access to datasets that cover various domains. As of March, 2024, it hosts and maintains over 600 datasets."
   ],
   "id": "2cb7862d-080b-4876-8cd3-13f661d99c87"
  },
  {
   "cell_type": "code",
   "execution_count": null,
   "metadata": {},
   "outputs": [
    {
     "output_type": "stream",
     "name": "stderr",
     "text": [
      "Rows: 383 Columns: 17\n",
      "── Column specification ────────────────────────────────────────────────────────\n",
      "Delimiter: \",\"\n",
      "chr (16): Gender, Smoking, Hx Smoking, Hx Radiothreapy, Thyroid Function, Ph...\n",
      "dbl  (1): Age\n",
      "\n",
      "ℹ Use `spec()` to retrieve the full column specification for this data.\n",
      "ℹ Specify the column types or set `show_col_types = FALSE` to quiet this message."
     ]
    }
   ],
   "source": [
    "raw_data <- readr::read_csv(here::here('data/raw-data.csv'))\n"
   ],
   "id": "eeeec2b4-7423-4ea2-8aa6-c00824cc20a8"
  },
  {
   "cell_type": "markdown",
   "metadata": {},
   "source": [
    "The “Differentiated Thyroid Cancer Recurrence” dataset encompasses 383 samples or observations, and a range of 17 variables pertinent to thyroid cancer, including patient demographics, clinical features, and pathological details, all aimed at elucidating patterns associated with cancer recurrence.\n",
    "\n",
    "We will employ six distinct modeling methods to analyze our dataset: Artificial Neural Network (ANN), K-Nearest Neighbors (KNN), Support Vector Machine (SVM), Logistic Regression (LR), Random Forest (RF), and Extreme Gradient Boosting (XGBoost). Each of these methods brings unique strengths to the analysis, with ANN providing deep learning capabilities, KNN offering simplicity and ease of interpretation, SVM delivering powerful discriminative classification, LR providing an intuitive and easily trainable implementation, and the ensemble methods RF and XGBoost offering highly robust and accurate tree algorithms – thereby encompassing a comprehensive approach to predicting cancer recurrence in the studied dataset.\n",
    "\n",
    "To prepare our data for modeling, we fix a typographical error, remove duplicate observations, and transform categorical variables into factors."
   ],
   "id": "491b6c4c-15da-405f-be44-e493d2b9d29e"
  },
  {
   "cell_type": "code",
   "execution_count": null,
   "metadata": {},
   "outputs": [
    {
     "output_type": "stream",
     "name": "stderr",
     "text": [
      "Rows: 383 Columns: 17\n",
      "── Column specification ────────────────────────────────────────────────────────\n",
      "Delimiter: \",\"\n",
      "chr (16): Gender, Smoking, Hx Smoking, Hx Radiothreapy, Thyroid Function, Ph...\n",
      "dbl  (1): Age\n",
      "\n",
      "ℹ Use `spec()` to retrieve the full column specification for this data.\n",
      "ℹ Specify the column types or set `show_col_types = FALSE` to quiet this message."
     ]
    }
   ],
   "source": [
    "#' Load raw data.\n",
    "cleaned_data <- \n",
    "  readr::read_csv(here::here('data/raw-data.csv')) |>\n",
    "  dplyr::distinct() |>\n",
    "  dplyr::rename(`Hx Radiotherapy` = 'Hx Radiothreapy') |>\n",
    "  dplyr::mutate(Gender = ifelse(Gender == 'F', 'Female', 'Male')) |>\n",
    "  dplyr::mutate(\n",
    "    Gender = factor(Gender, levels = c('Female', 'Male')),\n",
    "    Smoking = factor(Smoking, levels = c('Yes', 'No')),\n",
    "    `Hx Smoking` = factor(`Hx Smoking`, levels = c('Yes', 'No')),\n",
    "    `Hx Radiotherapy` = factor(`Hx Radiotherapy`, levels = c('Yes', 'No')),\n",
    "    `Thyroid Function` = factor(\n",
    "      `Thyroid Function`,\n",
    "      levels = c('Euthyroid', 'Clinical Hyperthyroidism',\n",
    "                 'Subclinical Hyperthyroidism', 'Clinical Hypothyroidism',\n",
    "                 'Subclinical Hypothyroidism')),\n",
    "    `Physical Examination` = factor(`Physical Examination`,\n",
    "                                    levels = c('Normal', 'Diffuse goiter', \n",
    "                                               'Single nodular goiter-right',\n",
    "                                               'Single nodular goiter-left', \n",
    "                                               'Multinodular goiter')),\n",
    "    Adenopathy = factor(Adenopathy,\n",
    "                        levels = c('No', 'Right', 'Left', 'Bilateral', \n",
    "                                   'Posterior', 'Extensive')),\n",
    "    Pathology = factor(\n",
    "      Pathology,\n",
    "      levels = c('Papillary', 'Micropapillary', 'Follicular',\n",
    "                 'Hurthel cell')),\n",
    "    Focality = factor(Focality, levels = c('Uni-Focal', 'Multi-Focal')),\n",
    "    `T` = factor(`T`, levels = c('T1a', 'T1b', 'T2', 'T3a', 'T3b', 'T4a',\n",
    "                                 'T4b')),\n",
    "    N = factor(N, levels = c('N0', 'N1b', 'N1a')),\n",
    "    M = factor(M, levels = c('M0', 'M1')),\n",
    "    Stage = factor(Stage, levels = c('I', 'II', 'III', 'IVA', 'IVB')),\n",
    "    Response = factor(\n",
    "      Response,\n",
    "      levels = c('Excellent', 'Biochemical Incomplete',\n",
    "                 'Structural Incomplete', 'Indeterminate')),\n",
    "    Risk = factor(Risk, levels = c('Low', 'Intermediate', 'High')),\n",
    "    Recurred = factor(Recurred, levels = c('Yes', 'No'))\n",
    "  )\n"
   ],
   "id": "cb178774-2fb3-4729-8768-cb7dd6acc905"
  },
  {
   "cell_type": "code",
   "execution_count": null,
   "metadata": {},
   "outputs": [],
   "source": [
    "# Save cleaned data.\n",
    "readr::write_csv(x = cleaned_data, file = here::here('data', 'cleaned-data.csv'))\n"
   ],
   "id": "feef329c-e8a4-4ea6-bf86-470f21c74cd8"
  },
  {
   "cell_type": "code",
   "execution_count": null,
   "metadata": {},
   "outputs": [],
   "source": [
    "# Total observations.\n",
    "total_obs <- nrow(cleaned_data)\n",
    "\n",
    "# Number of males/females & gender percentages.\n",
    "fem_no <- sum(cleaned_data$Gender == 'Female')\n",
    "males_no <- sum(cleaned_data$Gender == 'Male')\n",
    "fem_perc <- round(fem_no/total_obs*100, 1)\n",
    "males_perc <- round(males_no/total_obs*100, 1)\n",
    "\n",
    "# Gender by recurrence.\n",
    "fem_rec_yes <- sum(cleaned_data$Gender == 'Female' & cleaned_data$Recurred == 'Yes')\n",
    "fem_rec_no <- sum(cleaned_data$Gender == 'Female' & cleaned_data$Recurred == 'No')\n",
    "male_rec_yes <- sum(cleaned_data$Gender == 'Male' & cleaned_data$Recurred == 'Yes')\n",
    "male_rec_no <- sum(cleaned_data$Gender == 'Male' & cleaned_data$Recurred == 'No')\n",
    "fem_rec_yes_perc <- round(fem_rec_yes/fem_no*100, 1)\n",
    "fem_rec_no_perc <- round(fem_rec_no/fem_no*100, 1)\n",
    "male_rec_yes_perc <- round(male_rec_yes/males_no*100, 1)\n",
    "male_rec_no_perc <- round(male_rec_no/males_no*100, 1)\n"
   ],
   "id": "48420cd3-0882-4df8-8e01-daa5dc30ce3c"
  },
  {
   "cell_type": "markdown",
   "metadata": {},
   "source": [
    "After removing duplicates, our data has 364 observations. Out of the 17 variables, 16 will be used as features, leaving `Recurred` as the target variable to be predicted. Among the patients, there is a significant disparity between males and females: 293(80.5%) are females and 71(19.5%) are males. Males are about evenly distributed in terms of cancer recurrence with 59.2% total recurred cases. On the other hand, females are not evenly distributed in terms of cancer recurrence with 22.5% total recurred cases (see @fig-gender-dist-html )."
   ],
   "id": "c08c537d-c786-4d10-b256-de4a414289a4"
  },
  {
   "cell_type": "code",
   "execution_count": null,
   "metadata": {},
   "outputs": [],
   "source": [
    "\n",
    "# Note: this plot will only show for PDF versions of the paper.\n",
    "knitr::include_graphics(here::here('images/gender_dist_plot.png'))\n"
   ],
   "id": "cell-fig-gender-dist-pdf"
  },
  {
   "cell_type": "code",
   "execution_count": null,
   "metadata": {},
   "outputs": [
    {
     "output_type": "stream",
     "name": "stderr",
     "text": [
      "Warning in RColorBrewer::brewer.pal(N, \"Set2\"): minimal value for n is 3, returning requested palette with 3 different levels\n",
      "Warning in RColorBrewer::brewer.pal(N, \"Set2\"): minimal value for n is 3, returning requested palette with 3 different levels"
     ]
    },
    {
     "output_type": "stream",
     "name": "stderr",
     "text": [
      "Warning in RColorBrewer::brewer.pal(N, \"Set2\"): minimal value for n is 3, returning requested palette with 3 different levels\n",
      "Warning in RColorBrewer::brewer.pal(N, \"Set2\"): minimal value for n is 3, returning requested palette with 3 different levels"
     ]
    }
   ],
   "source": [
    "\n",
    "# Note: this plot will only show for HTML versions of the paper.\n",
    "\n",
    "# Gender distribution grouped by cancer recurrence.\n",
    "gender_dist_plot <- cleaned_data |>\n",
    "  dplyr::mutate(fem_total = sum(Gender == 'Female'),\n",
    "                male_total= sum(Gender == 'Male')) |>\n",
    "  dplyr::group_by(Gender, Recurred) |>\n",
    "  dplyr::reframe(count = dplyr::n(), fem_total, male_total) |>\n",
    "  dplyr::mutate(\n",
    "    count = ifelse(Gender == 'Female',\n",
    "                   round(count/fem_total*100, 1),\n",
    "                   round(count/male_total*100, 1))) |>\n",
    "  dplyr::distinct() |>\n",
    "  plotly::plot_ly(\n",
    "    x = ~Gender,\n",
    "    y = ~count,\n",
    "    color = ~Recurred,\n",
    "    text = ~Recurred,\n",
    "    opacity = 0.7,\n",
    "    type = 'bar',\n",
    "    hovertemplate = '<b>Gender</b>: %{x} <br><b>Recurred</b>: %{text} <br><b>Percentage</b>: %{y} <extra></extra>'\n",
    "    ) |>\n",
    "  plotly::config(displayModeBar = FALSE) |>\n",
    "  plotly::layout(bargap = 0.5, barmode = 'stack',\n",
    "                 yaxis = list(title = '', ticksuffix = '%'),\n",
    "                 legend = list(title = list(text = '<b>Recurred</b>'))\n",
    "  )\n",
    "\n",
    "plotly::save_image(gender_dist_plot, here::here('images/gender_dist_plot.png'),\n",
    "                   width = 500, scale = 4)\n"
   ],
   "id": "cell-fig-gender-dist-html"
  },
  {
   "cell_type": "markdown",
   "metadata": {},
   "source": [
    "The distribution of `Age` by cancer recurrence is shown in @fig-age-dist-html. Note that, in general, older patients are more likely to recur."
   ],
   "id": "2febec30-fbda-4a86-be0f-e50aedc062c7"
  },
  {
   "cell_type": "code",
   "execution_count": null,
   "metadata": {},
   "outputs": [],
   "source": [
    "\n",
    "# Note: this plot will only show for PDF versions of the paper.\n",
    "knitr::include_graphics(here::here('images/age_dist_plot.png'))\n"
   ],
   "id": "cell-fig-age-dist-pdf"
  },
  {
   "cell_type": "code",
   "execution_count": null,
   "metadata": {},
   "outputs": [
    {
     "output_type": "stream",
     "name": "stderr",
     "text": [
      "Warning in RColorBrewer::brewer.pal(N, \"Set2\"): minimal value for n is 3, returning requested palette with 3 different levels\n",
      "Warning in RColorBrewer::brewer.pal(N, \"Set2\"): minimal value for n is 3, returning requested palette with 3 different levels"
     ]
    },
    {
     "output_type": "stream",
     "name": "stderr",
     "text": [
      "Warning in RColorBrewer::brewer.pal(N, \"Set2\"): minimal value for n is 3, returning requested palette with 3 different levels\n",
      "Warning in RColorBrewer::brewer.pal(N, \"Set2\"): minimal value for n is 3, returning requested palette with 3 different levels"
     ]
    }
   ],
   "source": [
    "\n",
    "# Note: this plot will only show for HTML versions of the paper.\n",
    "\n",
    "#' Age Distribution grouped by cancer recurrence.\n",
    "age_dist_plot <- cleaned_data |>\n",
    "  plotly::plot_ly() |>\n",
    "  plotly::add_trace(\n",
    "    x = ~Age,\n",
    "    color = ~Recurred,\n",
    "    text = ~Recurred,\n",
    "    opacity = 0.7, #marker = list(color = '02d46a'),\n",
    "    type = 'histogram',\n",
    "    histnorm = 'percent',\n",
    "    hovertemplate = '<b>Age Range</b>: %{x} years <br><b>Percentage</b>: %{y:.1f}%<br><b>Recurred</b>: %{text}<extra></extra>'\n",
    "    ) |>\n",
    "  plotly::config(displayModeBar = FALSE) |>\n",
    "  plotly::layout(bargap = 0.1, barmode = 'stack',\n",
    "                 yaxis = list(ticksuffix = '%'),\n",
    "                 legend = list(title = list(text = '<b>Recurred</b>'))\n",
    "  )\n",
    "\n",
    "plotly::save_image(age_dist_plot, here::here('images/age_dist_plot.png'), scale = 4)\n"
   ],
   "id": "cell-fig-age-dist-html"
  },
  {
   "cell_type": "code",
   "execution_count": null,
   "metadata": {},
   "outputs": [],
   "source": [
    "# Create a summary of the data features to be shown in a table.\n",
    "dt_summary <- purrr::map(\n",
    "  colnames(cleaned_data |> dplyr::select(-Age, -Recurred)),\n",
    "  \\(x) paste0(unique(sort(cleaned_data[[x]])), collapse = ', ')\n",
    ")\n",
    "names(dt_summary) <- colnames(cleaned_data |> dplyr::select(-Age, -Recurred))\n",
    "dt_summary <- tibble::as_tibble(dt_summary) |>\n",
    "  tidyr::pivot_longer(\n",
    "    cols = dplyr::everything(),\n",
    "    names_to = 'Feature',\n",
    "    values_to = 'Values'\n",
    "  )\n"
   ],
   "id": "4efeca03-0711-4060-8a2c-6d4e0821e2dd"
  },
  {
   "cell_type": "markdown",
   "metadata": {},
   "source": [
    "Besides `Age`, the rest of the features are categorical. One interesting categorical feature is `Adenopathy`. It represents the presence of swollen lymph nodes during physical examination. The different adenopathy types observed are no adenopathy, anterior right, anterior left, bilateral (i.e., both sides of the body), posterior, and extensive (i.e., involves all the locations). Note the high correlation between swollen lymph nodes and DTC recurrence rate (see @fig-aden-dist-html)."
   ],
   "id": "e8f1a897-521c-4cb5-8df7-7b6615cd20bd"
  },
  {
   "cell_type": "code",
   "execution_count": null,
   "metadata": {},
   "outputs": [],
   "source": [
    "\n",
    "# Note: this plot will only show for PDF versions of the paper.\n",
    "knitr::include_graphics(here::here('images/aden_dist_plot.png'))\n"
   ],
   "id": "cell-fig-aden-dist-pdf"
  },
  {
   "cell_type": "code",
   "execution_count": null,
   "metadata": {},
   "outputs": [
    {
     "output_type": "stream",
     "name": "stderr",
     "text": [
      "Warning in RColorBrewer::brewer.pal(N, \"Set2\"): minimal value for n is 3, returning requested palette with 3 different levels\n",
      "Warning in RColorBrewer::brewer.pal(N, \"Set2\"): minimal value for n is 3, returning requested palette with 3 different levels"
     ]
    },
    {
     "output_type": "stream",
     "name": "stderr",
     "text": [
      "Warning in RColorBrewer::brewer.pal(N, \"Set2\"): minimal value for n is 3, returning requested palette with 3 different levels\n",
      "Warning in RColorBrewer::brewer.pal(N, \"Set2\"): minimal value for n is 3, returning requested palette with 3 different levels"
     ]
    }
   ],
   "source": [
    "\n",
    "# Note: this plot will only show for HTML versions of the paper.\n",
    "\n",
    "# Adenopathy distribution by cancer recurrence.\n",
    "aden_dist_plot <- cleaned_data |>\n",
    "  #' Find first the total number of patients by Adenopathy.\n",
    "  #' This will be used to find the percentage of repeating cases next.\n",
    "  dplyr::reframe(\n",
    "    total_aden = dplyr::n(),\n",
    "    .by = Adenopathy,\n",
    "    Recurred # Keep this column.\n",
    "  ) |>\n",
    "  # Calculate the number of cancer recurrences per adepathy. Calculate %.\n",
    "  dplyr::reframe(\n",
    "    total_rec = round(dplyr::n()/total_aden*100, 1),\n",
    "    .by = c(Adenopathy, Recurred),\n",
    "    total_aden = total_aden\n",
    "  ) |>\n",
    "  dplyr::distinct() |>\n",
    "  plotly::plot_ly(\n",
    "    x = ~Adenopathy,\n",
    "    y = ~total_rec,\n",
    "    color = ~Recurred,\n",
    "    text = ~Recurred,\n",
    "    opacity = 0.7,\n",
    "    type = 'bar',\n",
    "    hovertext = ~total_aden,\n",
    "    hovertemplate = '<b>Adenopathy</b>: %{x} <br><b>Recurred</b>: %{text} <br><b>Percentage</b>: %{y} of %{hovertext} patients <extra></extra>'\n",
    "    ) |>\n",
    "  plotly::config(displayModeBar = FALSE) |>\n",
    "  plotly::layout(bargap = 0.1, barmode = 'stack',\n",
    "                 yaxis = list(title = '', ticksuffix = '%'),\n",
    "                 legend = list(title = list(text = '<b>Recurred</b>'))\n",
    "  )\n",
    "\n",
    "plotly::save_image(aden_dist_plot, here::here('images/aden_dist_plot.png'), scale = 4)\n"
   ],
   "id": "cell-fig-aden-dist-html"
  },
  {
   "cell_type": "markdown",
   "metadata": {},
   "source": [
    "A summary of all the features and their categories are shown in @tbl-summary-html."
   ],
   "id": "d06d8f8c-1022-4427-84b3-fa8845254363"
  }
 ],
 "nbformat": 4,
 "nbformat_minor": 5,
 "metadata": {}
}
